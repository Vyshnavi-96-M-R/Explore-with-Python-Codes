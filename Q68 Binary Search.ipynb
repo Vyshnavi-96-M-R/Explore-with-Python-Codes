{
 "cells": [
  {
   "cell_type": "code",
   "execution_count": 6,
   "id": "cd1450b0",
   "metadata": {},
   "outputs": [
    {
     "name": "stdout",
     "output_type": "stream",
     "text": [
      "Enter the list of numbers : 1 2 3 4 5\n",
      "Enter the number to search : 3\n"
     ]
    },
    {
     "data": {
      "text/plain": [
       "True"
      ]
     },
     "execution_count": 6,
     "metadata": {},
     "output_type": "execute_result"
    }
   ],
   "source": [
    "#  Q14. Create a function that takes a list and a number as input and returns True ifthe number is present in the list otherwise false using Binary search algorithm. (Read about Binary Search).\n",
    "\n",
    "\n",
    "\n",
    "def binary_search(a,b):\n",
    "    left= 0\n",
    "    right=len(a)-1\n",
    "    while left<=right:\n",
    "        mid=(left+right)//2\n",
    "        if a[mid]==b:\n",
    "            return True\n",
    "        elif a[mid]<b:\n",
    "            left=mid+1\n",
    "        else:\n",
    "            right=mid-1\n",
    "    return False\n",
    "\n",
    "\n",
    "a=list(map(int,input(\"Enter the list of numbers : \").split()))\n",
    "b=int(input(\"Enter the number to search : \"))\n",
    "binary_search(a,b)\n"
   ]
  },
  {
   "cell_type": "code",
   "execution_count": null,
   "id": "1fe92e87",
   "metadata": {},
   "outputs": [],
   "source": []
  }
 ],
 "metadata": {
  "kernelspec": {
   "display_name": "Python 3 (ipykernel)",
   "language": "python",
   "name": "python3"
  },
  "language_info": {
   "codemirror_mode": {
    "name": "ipython",
    "version": 3
   },
   "file_extension": ".py",
   "mimetype": "text/x-python",
   "name": "python",
   "nbconvert_exporter": "python",
   "pygments_lexer": "ipython3",
   "version": "3.9.13"
  }
 },
 "nbformat": 4,
 "nbformat_minor": 5
}
