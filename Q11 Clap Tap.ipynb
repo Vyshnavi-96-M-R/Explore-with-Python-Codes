{
 "cells": [
  {
   "cell_type": "code",
   "execution_count": null,
   "id": "430f3337",
   "metadata": {},
   "outputs": [],
   "source": [
    "# Q1 Write a function clap_tap that prints the integers from 1 to 100. But for multiples of three print \"Clap\" instead of the number, and for the multiples of five print \"Tap\". For numbers which are multiples of both three and five print \"ClapTap\".\n",
    "\n",
    "n=1\n",
    "while n<=100:\n",
    "    if n%3==0 and n%5==0:\n",
    "            print(\"ClapTap\",end=\"\\t\\t\")\n",
    "    elif n%3==0:\n",
    "            print(\"Clap\",end=\"\\t\")\n",
    "    elif n%5==0:\n",
    "            print(\"Tap\",end=\"\\t\")\n",
    "    else:\n",
    "            print(n,end=\"\\t\")\n",
    "    n=n+1             "
   ]
  },
  {
   "cell_type": "code",
   "execution_count": 16,
   "id": "30e12a92",
   "metadata": {},
   "outputs": [
    {
     "name": "stdout",
     "output_type": "stream",
     "text": [
      "1\t2\t3\t4\t5\t6\t7\t8\t9\t10\t11\t12\t13\t14\t15\t16\t17\t18\t19\t20\t21\t22\t23\t24\t25\t26\t27\t28\t29\t30\t31\t32\t33\t34\t35\t36\t37\t38\t39\t40\t41\t42\t43\t44\t45\t46\t47\t48\t49\t50\t51\t52\t53\t54\t55\t56\t57\t58\t59\t60\t61\t62\t63\t64\t65\t66\t67\t68\t69\t70\t71\t72\t73\t74\t75\t76\t77\t78\t79\t80\t81\t82\t83\t84\t85\t86\t87\t88\t89\t90\t91\t92\t93\t94\t95\t96\t97\t98\t99\t100\t"
     ]
    }
   ],
   "source": [
    "for i in range(1,101):\n",
    "    print(i,end=\"\\t\")"
   ]
  }
 ],
 "metadata": {
  "kernelspec": {
   "display_name": "Python 3 (ipykernel)",
   "language": "python",
   "name": "python3"
  },
  "language_info": {
   "codemirror_mode": {
    "name": "ipython",
    "version": 3
   },
   "file_extension": ".py",
   "mimetype": "text/x-python",
   "name": "python",
   "nbconvert_exporter": "python",
   "pygments_lexer": "ipython3",
   "version": "3.9.13"
  }
 },
 "nbformat": 4,
 "nbformat_minor": 5
}
