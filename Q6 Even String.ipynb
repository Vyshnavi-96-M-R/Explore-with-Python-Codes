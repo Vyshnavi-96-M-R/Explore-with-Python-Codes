{
 "cells": [
  {
   "cell_type": "code",
   "execution_count": 1,
   "id": "ffa71322",
   "metadata": {},
   "outputs": [
    {
     "name": "stdout",
     "output_type": "stream",
     "text": [
      "Even: ['know', 'to', 'word', 'in', 'this', 'sentence', 'that', 'an', 'even', 'number', 'of']\n"
     ]
    }
   ],
   "source": [
    "## Q1 Go through the string below and if the length of a word is even print \"even!\"\n",
    "#string = 'I know how to print every word in this sentence that has an even number of letters'\n",
    "\n",
    "s='I know how to print every word in this sentence that has an even number of letters'\n",
    "x=s.split()\n",
    "print(\"Even:\",[i for i in x if len(i)%2==0])"
   ]
  }
 ],
 "metadata": {
  "kernelspec": {
   "display_name": "Python 3 (ipykernel)",
   "language": "python",
   "name": "python3"
  },
  "language_info": {
   "codemirror_mode": {
    "name": "ipython",
    "version": 3
   },
   "file_extension": ".py",
   "mimetype": "text/x-python",
   "name": "python",
   "nbconvert_exporter": "python",
   "pygments_lexer": "ipython3",
   "version": "3.9.13"
  }
 },
 "nbformat": 4,
 "nbformat_minor": 5
}
