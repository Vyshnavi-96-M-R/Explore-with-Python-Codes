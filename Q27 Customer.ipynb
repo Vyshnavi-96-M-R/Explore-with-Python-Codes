{
 "cells": [
  {
   "cell_type": "code",
   "execution_count": 1,
   "id": "af7b5ce6",
   "metadata": {},
   "outputs": [
    {
     "name": "stdout",
     "output_type": "stream",
     "text": [
      "Press 1 for add Customer details\n",
      "press 2 for Exit\n",
      "Enter your choice(1/2) : 1\n",
      "Enter cutomer_id : 01\n",
      "Enter Customer name : Vyshnavi\n",
      "Enter Location : Kerala\n",
      "Enter Phone no : 9207015820\n",
      "Enter Last purchase date : 10/11/2022\n",
      "Press 1 for add Customer details\n",
      "press 2 for Exit\n",
      "Enter your choice(1/2) : 1\n",
      "Enter cutomer_id : 02\n",
      "Enter Customer name : Amal\n",
      "Enter Location : Bangalore\n",
      "Enter Phone no : 6282855126\n",
      "Enter Last purchase date : 19/12/2022\n",
      "Press 1 for add Customer details\n",
      "press 2 for Exit\n",
      "Enter your choice(1/2) : 1\n",
      "Enter cutomer_id : 03\n",
      "Enter Customer name : Aswathy\n",
      "Enter Location : Chennai\n",
      "Enter Phone no : 6282855126\n",
      "Enter Last purchase date : 21/01/2023\n",
      "Press 1 for add Customer details\n",
      "press 2 for Exit\n",
      "Enter your choice(1/2) : 2\n"
     ]
    }
   ],
   "source": [
    "# Q2.Write a program to store details of 6 customers in a text file with features of Unique Customer Id, \n",
    "# Name, Location, Phone Number, Last Purchase Date for an ecommerce website that canbe considered for future records\n",
    "\n",
    "\n",
    "class Customer():\n",
    "    cust_id=None\n",
    "    name=None\n",
    "    loc=None\n",
    "    ph_no=None\n",
    "    last_pd=None\n",
    "       \n",
    "    \n",
    "    def __init__(self,cust_id,name,loc,ph_no,last_pd):\n",
    "        self.cust_id=cust_id\n",
    "        self.name=name\n",
    "        self.loc=loc\n",
    "        self.ph_no=ph_no\n",
    "        self.last_pd=last_pd\n",
    "        \n",
    "        \n",
    "def display(self):\n",
    "    file=open(\"Customer_Details.txt\",\"a+\")\n",
    "    file.write(self.cust_id)\n",
    "    file.write(\"\\t\")\n",
    "    file.write(self.name)\n",
    "    file.write(\"\\t\")\n",
    "    file.write(self.loc)\n",
    "    file.write(\"\\t\")\n",
    "    file.write(self.ph_no)\n",
    "    file.write(\"\\t\")\n",
    "    file.write(self.last_pd)\n",
    "    file.write(\"\\n\")\n",
    "    \n",
    "        \n",
    "while True:\n",
    "    print(\"Press 1 for add Customer details\")\n",
    "    print(\"press 2 for Exit\")\n",
    "    ch=eval(input(\"Enter your choice(1/2) : \"))\n",
    "    if ch==1:\n",
    "        cust_id=input(\"Enter cutomer_id : \")\n",
    "        name=input(\"Enter Customer name : \")\n",
    "        loc=input(\"Enter Location : \")\n",
    "        ph_no=input(\"Enter Phone no : \")\n",
    "        last_pd=input(\"Enter Last purchase date : \")\n",
    "        c1=Customer(cust_id,name,loc,ph_no,last_pd)\n",
    "        display(c1)\n",
    "    else:\n",
    "        break\n",
    "else:\n",
    "    pass  \n",
    "               "
   ]
  },
  {
   "cell_type": "code",
   "execution_count": null,
   "id": "b25e966e",
   "metadata": {},
   "outputs": [],
   "source": []
  }
 ],
 "metadata": {
  "kernelspec": {
   "display_name": "Python 3 (ipykernel)",
   "language": "python",
   "name": "python3"
  },
  "language_info": {
   "codemirror_mode": {
    "name": "ipython",
    "version": 3
   },
   "file_extension": ".py",
   "mimetype": "text/x-python",
   "name": "python",
   "nbconvert_exporter": "python",
   "pygments_lexer": "ipython3",
   "version": "3.9.13"
  }
 },
 "nbformat": 4,
 "nbformat_minor": 5
}
