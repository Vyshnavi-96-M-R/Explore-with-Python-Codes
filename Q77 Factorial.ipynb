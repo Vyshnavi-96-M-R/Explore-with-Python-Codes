{
 "cells": [
  {
   "cell_type": "code",
   "execution_count": 1,
   "id": "6bee68a2",
   "metadata": {},
   "outputs": [],
   "source": [
    "# Q6. Create a function that takes a number as input and returns the factorial.\n",
    "\n",
    "\n",
    "def num_factorial(num):                                           # Defining a function named as num_factorial,num as argument\n",
    "                    factorial=1                                   # To take an input from the user                  \n",
    "                    if num>=0:                                    # Check if the given number is 0 or +ve,The if condition true,then executing the for loop\n",
    "                        for i in range(1,num+1):                  # The value of i is star=1,end=num+1\n",
    "                            factorial=factorial*i                 # Find factorial [n!=n*(n-1)!*(n-2)!*...]-Mathematical equation\n",
    "                        print(\"Factorial of\",num,\"is\",factorial)  # print factorial\n",
    "                    else:\n",
    "                        print(\"-ve# does not have factorial\")     # The if condition is false,executing the else block"
   ]
  },
  {
   "cell_type": "code",
   "execution_count": 2,
   "id": "2ea1e406",
   "metadata": {},
   "outputs": [
    {
     "name": "stdout",
     "output_type": "stream",
     "text": [
      "Factorial of 5 is 120\n"
     ]
    }
   ],
   "source": [
    "num_factorial(5)"
   ]
  },
  {
   "cell_type": "code",
   "execution_count": 3,
   "id": "0fb57dd3",
   "metadata": {},
   "outputs": [
    {
     "name": "stdout",
     "output_type": "stream",
     "text": [
      "Factorial of 8 is 40320\n"
     ]
    }
   ],
   "source": [
    "num_factorial(8)"
   ]
  },
  {
   "cell_type": "code",
   "execution_count": null,
   "id": "b517eba2",
   "metadata": {},
   "outputs": [],
   "source": []
  }
 ],
 "metadata": {
  "kernelspec": {
   "display_name": "Python 3 (ipykernel)",
   "language": "python",
   "name": "python3"
  },
  "language_info": {
   "codemirror_mode": {
    "name": "ipython",
    "version": 3
   },
   "file_extension": ".py",
   "mimetype": "text/x-python",
   "name": "python",
   "nbconvert_exporter": "python",
   "pygments_lexer": "ipython3",
   "version": "3.9.13"
  }
 },
 "nbformat": 4,
 "nbformat_minor": 5
}
