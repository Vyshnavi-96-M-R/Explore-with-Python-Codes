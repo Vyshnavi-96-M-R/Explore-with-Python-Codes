{
 "cells": [
  {
   "cell_type": "code",
   "execution_count": 1,
   "id": "90a5679b",
   "metadata": {},
   "outputs": [],
   "source": [
    "# Q3. Create a function that takes a list of numbers as input and returns the standard deviation.\n",
    "\n",
    "\n",
    "import statistics\n",
    "def list_SD(n):\n",
    "        print(\"Original list : \",n)\n",
    "        m1=statistics.pstdev(n)\n",
    "        print(\"Standard deviation of list is : \",m1)"
   ]
  },
  {
   "cell_type": "code",
   "execution_count": 2,
   "id": "31ba81af",
   "metadata": {},
   "outputs": [
    {
     "name": "stdout",
     "output_type": "stream",
     "text": [
      "Original list :  [4, 5, 8, 9, 10, 17]\n",
      "Standard deviation of list is :  4.2196629670573875\n"
     ]
    }
   ],
   "source": [
    "list_SD([4, 5, 8, 9, 10, 17])"
   ]
  },
  {
   "cell_type": "code",
   "execution_count": 3,
   "id": "e1cc71c9",
   "metadata": {},
   "outputs": [
    {
     "name": "stdout",
     "output_type": "stream",
     "text": [
      "Original list :  [4, 5, 8, 9, 10]\n",
      "Standard deviation of list is :  2.3151673805580453\n"
     ]
    }
   ],
   "source": [
    "list_SD([4, 5, 8, 9, 10])"
   ]
  },
  {
   "cell_type": "code",
   "execution_count": null,
   "id": "0a19d29e",
   "metadata": {},
   "outputs": [],
   "source": []
  }
 ],
 "metadata": {
  "kernelspec": {
   "display_name": "Python 3 (ipykernel)",
   "language": "python",
   "name": "python3"
  },
  "language_info": {
   "codemirror_mode": {
    "name": "ipython",
    "version": 3
   },
   "file_extension": ".py",
   "mimetype": "text/x-python",
   "name": "python",
   "nbconvert_exporter": "python",
   "pygments_lexer": "ipython3",
   "version": "3.9.13"
  }
 },
 "nbformat": 4,
 "nbformat_minor": 5
}
