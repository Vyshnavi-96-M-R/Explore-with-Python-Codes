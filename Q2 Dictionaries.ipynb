{
 "cells": [
  {
   "cell_type": "code",
   "execution_count": 11,
   "id": "5bf3cacc",
   "metadata": {},
   "outputs": [
    {
     "data": {
      "text/plain": [
       "[{'nest_key': ['this is deep', ['StarAgile']]}]"
      ]
     },
     "execution_count": 11,
     "metadata": {},
     "output_type": "execute_result"
    }
   ],
   "source": [
    "# Q2.Grab ``StarAgile`` from the following Dictionaries\n",
    "#d_difficult = {'k1':[{'nest_key':['this is deep',['StarAgile']]}]}\n",
    "#d_irritating = {'k1':[1,2,{'k2':['this is not easy',{'VeryIrriating':[1,2,['StarAgile']]}]}]}\n",
    "\n",
    "d_difficult = {'k1':[{'nest_key':['this is deep',['StarAgile']]}]}\n",
    "d_difficult['k1']"
   ]
  },
  {
   "cell_type": "code",
   "execution_count": 4,
   "id": "4ea58023",
   "metadata": {},
   "outputs": [
    {
     "data": {
      "text/plain": [
       "{'nest_key': ['this is deep', ['StarAgile']]}"
      ]
     },
     "execution_count": 4,
     "metadata": {},
     "output_type": "execute_result"
    }
   ],
   "source": [
    "d_difficult['k1'][0]"
   ]
  },
  {
   "cell_type": "code",
   "execution_count": 5,
   "id": "c2f11c83",
   "metadata": {},
   "outputs": [
    {
     "data": {
      "text/plain": [
       "['this is deep', ['StarAgile']]"
      ]
     },
     "execution_count": 5,
     "metadata": {},
     "output_type": "execute_result"
    }
   ],
   "source": [
    "d_difficult['k1'][0]['nest_key']"
   ]
  },
  {
   "cell_type": "code",
   "execution_count": 8,
   "id": "8593e9c9",
   "metadata": {},
   "outputs": [
    {
     "data": {
      "text/plain": [
       "'this is deep'"
      ]
     },
     "execution_count": 8,
     "metadata": {},
     "output_type": "execute_result"
    }
   ],
   "source": [
    "d_difficult['k1'][0]['nest_key'][0]"
   ]
  },
  {
   "cell_type": "code",
   "execution_count": 14,
   "id": "dc0c3abf",
   "metadata": {},
   "outputs": [
    {
     "data": {
      "text/plain": [
       "'StarAgile'"
      ]
     },
     "execution_count": 14,
     "metadata": {},
     "output_type": "execute_result"
    }
   ],
   "source": [
    "d_difficult['k1'][0]['nest_key'][1][0]"
   ]
  },
  {
   "cell_type": "code",
   "execution_count": 16,
   "id": "23fe377d",
   "metadata": {},
   "outputs": [
    {
     "data": {
      "text/plain": [
       "[1, 2, {'k2': ['this is not easy', {'VeryIrriating': [1, 2, ['StarAgile']]}]}]"
      ]
     },
     "execution_count": 16,
     "metadata": {},
     "output_type": "execute_result"
    }
   ],
   "source": [
    "d_irritating = {'k1':[1,2,{'k2':['this is not easy',{'VeryIrriating':[1,2,['StarAgile']]}]}]}\n",
    "d_irritating['k1']"
   ]
  },
  {
   "cell_type": "code",
   "execution_count": 23,
   "id": "d6167fa0",
   "metadata": {},
   "outputs": [
    {
     "data": {
      "text/plain": [
       "1"
      ]
     },
     "execution_count": 23,
     "metadata": {},
     "output_type": "execute_result"
    }
   ],
   "source": [
    "d_irritating['k1'][0]\n"
   ]
  },
  {
   "cell_type": "code",
   "execution_count": 7,
   "id": "4fbbc0a2",
   "metadata": {},
   "outputs": [
    {
     "data": {
      "text/plain": [
       "2"
      ]
     },
     "execution_count": 7,
     "metadata": {},
     "output_type": "execute_result"
    }
   ],
   "source": [
    "d_irritating['k1'][1]"
   ]
  },
  {
   "cell_type": "code",
   "execution_count": 8,
   "id": "c9c6a37a",
   "metadata": {},
   "outputs": [
    {
     "data": {
      "text/plain": [
       "{'k2': ['this is not easy', {'VeryIrriating': [1, 2, ['StarAgile']]}]}"
      ]
     },
     "execution_count": 8,
     "metadata": {},
     "output_type": "execute_result"
    }
   ],
   "source": [
    "d_irritating['k1'][2]"
   ]
  },
  {
   "cell_type": "code",
   "execution_count": 28,
   "id": "94e44461",
   "metadata": {},
   "outputs": [
    {
     "data": {
      "text/plain": [
       "'this is not easy'"
      ]
     },
     "execution_count": 28,
     "metadata": {},
     "output_type": "execute_result"
    }
   ],
   "source": [
    "d_irritating['k1'][2]['k2'][0]"
   ]
  },
  {
   "cell_type": "code",
   "execution_count": 29,
   "id": "14774953",
   "metadata": {},
   "outputs": [
    {
     "data": {
      "text/plain": [
       "{'VeryIrriating': [1, 2, ['StarAgile']]}"
      ]
     },
     "execution_count": 29,
     "metadata": {},
     "output_type": "execute_result"
    }
   ],
   "source": [
    "d_irritating['k1'][2]['k2'][1]"
   ]
  },
  {
   "cell_type": "code",
   "execution_count": 30,
   "id": "af4d9d02",
   "metadata": {},
   "outputs": [
    {
     "data": {
      "text/plain": [
       "[1, 2, ['StarAgile']]"
      ]
     },
     "execution_count": 30,
     "metadata": {},
     "output_type": "execute_result"
    }
   ],
   "source": [
    "d_irritating['k1'][2]['k2'][1]['VeryIrriating']"
   ]
  },
  {
   "cell_type": "code",
   "execution_count": 31,
   "id": "232aab95",
   "metadata": {},
   "outputs": [
    {
     "data": {
      "text/plain": [
       "1"
      ]
     },
     "execution_count": 31,
     "metadata": {},
     "output_type": "execute_result"
    }
   ],
   "source": [
    "d_irritating['k1'][2]['k2'][1]['VeryIrriating'][0]"
   ]
  },
  {
   "cell_type": "code",
   "execution_count": 32,
   "id": "3fadcf43",
   "metadata": {},
   "outputs": [
    {
     "data": {
      "text/plain": [
       "2"
      ]
     },
     "execution_count": 32,
     "metadata": {},
     "output_type": "execute_result"
    }
   ],
   "source": [
    "d_irritating['k1'][2]['k2'][1]['VeryIrriating'][1]"
   ]
  },
  {
   "cell_type": "code",
   "execution_count": 33,
   "id": "a598a159",
   "metadata": {},
   "outputs": [
    {
     "data": {
      "text/plain": [
       "['StarAgile']"
      ]
     },
     "execution_count": 33,
     "metadata": {},
     "output_type": "execute_result"
    }
   ],
   "source": [
    "d_irritating['k1'][2]['k2'][1]['VeryIrriating'][2]"
   ]
  }
 ],
 "metadata": {
  "kernelspec": {
   "display_name": "Python 3 (ipykernel)",
   "language": "python",
   "name": "python3"
  },
  "language_info": {
   "codemirror_mode": {
    "name": "ipython",
    "version": 3
   },
   "file_extension": ".py",
   "mimetype": "text/x-python",
   "name": "python",
   "nbconvert_exporter": "python",
   "pygments_lexer": "ipython3",
   "version": "3.9.13"
  }
 },
 "nbformat": 4,
 "nbformat_minor": 5
}
