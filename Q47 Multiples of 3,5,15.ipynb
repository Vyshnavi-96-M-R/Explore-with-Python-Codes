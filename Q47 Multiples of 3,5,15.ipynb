{
 "cells": [
  {
   "cell_type": "code",
   "execution_count": 7,
   "id": "97b254e9",
   "metadata": {},
   "outputs": [
    {
     "name": "stdout",
     "output_type": "stream",
     "text": [
      "Enter the number : 15\n",
      "15 is multiples of both 3 and 5\n"
     ]
    }
   ],
   "source": [
    "# Q8.Take a number as input and print whether the number is a multiple of 3,5 or both.\n",
    "\n",
    "\n",
    "n=int(input(\"Enter the number : \"))\n",
    "if n%3==0 and n%5==0:\n",
    "    print(n,\"is multiples of both 3 and 5\")\n",
    "elif n%3==0:\n",
    "    print(n,\"is multiples of 3\")\n",
    "else:\n",
    "    print(n,\"is multiples of 5\")\n",
    "             "
   ]
  },
  {
   "cell_type": "code",
   "execution_count": null,
   "id": "e8c6586a",
   "metadata": {},
   "outputs": [],
   "source": []
  }
 ],
 "metadata": {
  "kernelspec": {
   "display_name": "Python 3 (ipykernel)",
   "language": "python",
   "name": "python3"
  },
  "language_info": {
   "codemirror_mode": {
    "name": "ipython",
    "version": 3
   },
   "file_extension": ".py",
   "mimetype": "text/x-python",
   "name": "python",
   "nbconvert_exporter": "python",
   "pygments_lexer": "ipython3",
   "version": "3.9.13"
  }
 },
 "nbformat": 4,
 "nbformat_minor": 5
}
