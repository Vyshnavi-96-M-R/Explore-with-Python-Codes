{
 "cells": [
  {
   "cell_type": "code",
   "execution_count": 12,
   "id": "1953893d",
   "metadata": {},
   "outputs": [
    {
     "name": "stdout",
     "output_type": "stream",
     "text": [
      "Float no :  3.8\n",
      "Corresponding  : \n",
      "1. Integer     :  3\n",
      "2. Complex     :  (3+0j)\n",
      "3. Binary      :  0b11\n",
      "4. Hexadecimal :  0x3\n"
     ]
    }
   ],
   "source": [
    "# Q4.Convert the Float Value of '3.8' into Integer, Complex, Binary and Hexidecimal format\n",
    "n=3.8\n",
    "print(\"Float no : \",n)\n",
    "print(\"Corresponding  : \")\n",
    "dec=int(n)\n",
    "print(\"1. Integer     : \",dec)\n",
    "comp=complex(dec)\n",
    "print(\"2. Complex     : \",comp)\n",
    "bina=bin(dec)\n",
    "print(\"3. Binary      : \",bina)\n",
    "hexa=hex(dec)\n",
    "print(\"4. Hexadecimal : \",hexa)"
   ]
  }
 ],
 "metadata": {
  "kernelspec": {
   "display_name": "Python 3 (ipykernel)",
   "language": "python",
   "name": "python3"
  },
  "language_info": {
   "codemirror_mode": {
    "name": "ipython",
    "version": 3
   },
   "file_extension": ".py",
   "mimetype": "text/x-python",
   "name": "python",
   "nbconvert_exporter": "python",
   "pygments_lexer": "ipython3",
   "version": "3.9.13"
  }
 },
 "nbformat": 4,
 "nbformat_minor": 5
}
