{
 "cells": [
  {
   "cell_type": "code",
   "execution_count": 2,
   "id": "b3313f21",
   "metadata": {},
   "outputs": [
    {
     "name": "stdout",
     "output_type": "stream",
     "text": [
      "Enter the Outcomes : H T H T H T H T H T\n",
      "Tom gets 5 points\n",
      "Jhon gets 5 point\n"
     ]
    }
   ],
   "source": [
    "# Q5 Write a program to take a list as input containing results of 10 coin tosses as 'H' or 'T'. Jon gets a point for each 'T' and Tom gets a point for each 'H'. print the points recieved by both.\n",
    "\n",
    "\n",
    "toss=list(input(\"Enter the Outcomes : \").split())[:10]\n",
    "print(\"Tom gets\",toss.count(\"H\"),\"points\")\n",
    "print(\"Jhon gets\",toss.count(\"T\"),\"point\")"
   ]
  },
  {
   "cell_type": "code",
   "execution_count": null,
   "id": "be8dd970",
   "metadata": {},
   "outputs": [],
   "source": []
  }
 ],
 "metadata": {
  "kernelspec": {
   "display_name": "Python 3 (ipykernel)",
   "language": "python",
   "name": "python3"
  },
  "language_info": {
   "codemirror_mode": {
    "name": "ipython",
    "version": 3
   },
   "file_extension": ".py",
   "mimetype": "text/x-python",
   "name": "python",
   "nbconvert_exporter": "python",
   "pygments_lexer": "ipython3",
   "version": "3.9.13"
  }
 },
 "nbformat": 4,
 "nbformat_minor": 5
}
