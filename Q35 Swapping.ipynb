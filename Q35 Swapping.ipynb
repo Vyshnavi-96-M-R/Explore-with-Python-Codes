{
 "cells": [
  {
   "cell_type": "code",
   "execution_count": 4,
   "id": "45fc6bc0",
   "metadata": {},
   "outputs": [
    {
     "name": "stdout",
     "output_type": "stream",
     "text": [
      "Enter the first value : 62\n",
      "Enter the second value : 98\n",
      "The numbers before swapping is :  (62, 98)\n",
      "The numbers after swapping is :  (98, 62)\n"
     ]
    }
   ],
   "source": [
    "# Q6. Take two numbers as input and print the result after swapping them. (Without using multiple assignment and any extra variable).\n",
    "\n",
    "\n",
    "A=int(input(\"Enter the first value : \"))\n",
    "B=int(input(\"Enter the second value : \"))\n",
    "print(\"The numbers before swapping is : \",(A,B))\n",
    "A=A+B\n",
    "B=A-B\n",
    "A=A-B\n",
    "print(\"The numbers after swapping is : \",(A,B)) "
   ]
  },
  {
   "cell_type": "code",
   "execution_count": null,
   "id": "650230d7",
   "metadata": {},
   "outputs": [],
   "source": []
  }
 ],
 "metadata": {
  "kernelspec": {
   "display_name": "Python 3 (ipykernel)",
   "language": "python",
   "name": "python3"
  },
  "language_info": {
   "codemirror_mode": {
    "name": "ipython",
    "version": 3
   },
   "file_extension": ".py",
   "mimetype": "text/x-python",
   "name": "python",
   "nbconvert_exporter": "python",
   "pygments_lexer": "ipython3",
   "version": "3.9.13"
  }
 },
 "nbformat": 4,
 "nbformat_minor": 5
}
