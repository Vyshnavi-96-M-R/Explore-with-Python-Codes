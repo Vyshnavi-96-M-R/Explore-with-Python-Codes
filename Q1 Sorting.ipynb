{
 "cells": [
  {
   "cell_type": "code",
   "execution_count": 26,
   "id": "145afdbf",
   "metadata": {},
   "outputs": [
    {
     "name": "stdout",
     "output_type": "stream",
     "text": [
      "Given List    :  [(2, 5), (1, 2), (4, 4), (2, 3), (2, 1)]\n",
      "Output List   :  [(2, 1), (1, 2), (2, 3), (4, 4), (2, 5)]\n"
     ]
    }
   ],
   "source": [
    "# Q1.Write a Python program to get a list, sorted in increasing order by the last element in each tuple from a given list of non-empty tuples.\n",
    "# Sample List : [(2, 5), (1, 2), (4, 4), (2, 3), (2, 1)]\n",
    "# Expected Result : [(2, 1), (1, 2), (2, 3), (4, 4), (2, 5)]\n",
    "l1=[(2,5),(1,2),(4,4),(2,3),(2,1)]\n",
    "print(\"Given List    : \",l1)\n",
    "rev1=[(x[1],x[0]) for x in l1]\n",
    "#print(\"Reversed List : \",rev1)\n",
    "rev1.sort()\n",
    "#print(\"Sorted List   : \",rev1)\n",
    "rev2=[(y[1],y[0]) for y in rev1]\n",
    "print(\"Output List   : \",rev2)\n"
   ]
  }
 ],
 "metadata": {
  "kernelspec": {
   "display_name": "Python 3 (ipykernel)",
   "language": "python",
   "name": "python3"
  },
  "language_info": {
   "codemirror_mode": {
    "name": "ipython",
    "version": 3
   },
   "file_extension": ".py",
   "mimetype": "text/x-python",
   "name": "python",
   "nbconvert_exporter": "python",
   "pygments_lexer": "ipython3",
   "version": "3.9.13"
  }
 },
 "nbformat": 4,
 "nbformat_minor": 5
}
