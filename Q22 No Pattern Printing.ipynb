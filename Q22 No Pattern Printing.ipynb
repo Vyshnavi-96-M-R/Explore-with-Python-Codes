{
 "cells": [
  {
   "cell_type": "code",
   "execution_count": 2,
   "id": "4aed124b",
   "metadata": {},
   "outputs": [
    {
     "name": "stdout",
     "output_type": "stream",
     "text": [
      "1 \n",
      "2 4 \n",
      "3 6 9 \n",
      "4 8 12 16 \n",
      "5 10 15 20 25 \n",
      "None\n"
     ]
    }
   ],
   "source": [
    "# Q2 Write a function to print following pattern\n",
    "\n",
    "# 1  \n",
    "# 2  4  \n",
    "# 3  6  9  \n",
    "# 4  8  12  16  \n",
    "# 5  10  15  20  25  \n",
    "# 6  12  18  24  30  36  \n",
    "# 7  14  21  28  35  42  49  \n",
    "# 8  16  24  32  40  48  56  64  \n",
    "\n",
    "def pattern(n):\n",
    "    for i in range(1,n+1):\n",
    "        for j in range(1,i+1):\n",
    "            mul=i*j\n",
    "            print(i*j,end=' ')\n",
    "        print()\n",
    "        \n",
    "print(pattern(5))"
   ]
  }
 ],
 "metadata": {
  "kernelspec": {
   "display_name": "Python 3 (ipykernel)",
   "language": "python",
   "name": "python3"
  },
  "language_info": {
   "codemirror_mode": {
    "name": "ipython",
    "version": 3
   },
   "file_extension": ".py",
   "mimetype": "text/x-python",
   "name": "python",
   "nbconvert_exporter": "python",
   "pygments_lexer": "ipython3",
   "version": "3.9.13"
  }
 },
 "nbformat": 4,
 "nbformat_minor": 5
}
