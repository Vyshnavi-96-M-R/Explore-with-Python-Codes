{
 "cells": [
  {
   "cell_type": "code",
   "execution_count": 23,
   "id": "621cca20",
   "metadata": {},
   "outputs": [
    {
     "name": "stdout",
     "output_type": "stream",
     "text": [
      "Sum of all no's dvisible by 7 between 18 and 534 is : 20461\n"
     ]
    }
   ],
   "source": [
    "# Q3 Calculate and display the sum of all the numbers divisible by 7 between 18 and 534.\n",
    "# Hint: One way to do this is to loop over a 'range' using 'for' loop and use an 'if' statement inside it.\n",
    "\n",
    "n=18\n",
    "total=0\n",
    "for i in range(18,535):\n",
    "    if i%7==0:\n",
    "        total+=n\n",
    "    n=n+1\n",
    "print(\"Sum of all no's dvisible by 7 between 18 and 534 is : {}\".format(total))      "
   ]
  }
 ],
 "metadata": {
  "kernelspec": {
   "display_name": "Python 3 (ipykernel)",
   "language": "python",
   "name": "python3"
  },
  "language_info": {
   "codemirror_mode": {
    "name": "ipython",
    "version": 3
   },
   "file_extension": ".py",
   "mimetype": "text/x-python",
   "name": "python",
   "nbconvert_exporter": "python",
   "pygments_lexer": "ipython3",
   "version": "3.9.13"
  }
 },
 "nbformat": 4,
 "nbformat_minor": 5
}
