{
 "cells": [
  {
   "cell_type": "code",
   "execution_count": null,
   "id": "0ef17457",
   "metadata": {},
   "outputs": [],
   "source": [
    "# Q4.   b=open(\"assignment.txt\")\n",
    "# Consider the code given above and write the answers to the following :\n",
    "\n",
    "1 . Identify the name of the file :\n",
    "2 . Identify the name of the function used above :\n",
    "3 . What is 'b' in above code :\n",
    "4 . The above statement will ____ file in ___ mode.\n",
    "\n",
    "\n",
    "Answers:\n",
    "    1. assignment.txt\n",
    "    2. open() \n",
    "    3. file object\n",
    "    4. assignment.txt(text) file in r mode ('r' is the default mode)\n",
    "       "
   ]
  }
 ],
 "metadata": {
  "kernelspec": {
   "display_name": "Python 3 (ipykernel)",
   "language": "python",
   "name": "python3"
  },
  "language_info": {
   "codemirror_mode": {
    "name": "ipython",
    "version": 3
   },
   "file_extension": ".py",
   "mimetype": "text/x-python",
   "name": "python",
   "nbconvert_exporter": "python",
   "pygments_lexer": "ipython3",
   "version": "3.9.13"
  }
 },
 "nbformat": 4,
 "nbformat_minor": 5
}
