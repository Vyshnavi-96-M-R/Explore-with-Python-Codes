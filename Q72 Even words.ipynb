{
 "cells": [
  {
   "cell_type": "code",
   "execution_count": 1,
   "id": "6b74b91a",
   "metadata": {},
   "outputs": [
    {
     "name": "stdout",
     "output_type": "stream",
     "text": [
      "Enter a String : Star Agile Data Sciene Course\n",
      "['Star', 'Data', 'Sciene', 'Course']\n"
     ]
    }
   ],
   "source": [
    "# Q18. Write a program that takes a string as input and returns a list of all words having even length in that string (Using Map/Filter and Lambda expression).\n",
    "\n",
    "\n",
    "str1=input(\"Enter a String : \")\n",
    "str2=str1.split(\" \")\n",
    "l1=list(filter(lambda x:(len(x)%2==0),str2))\n",
    "print(l1)"
   ]
  },
  {
   "cell_type": "code",
   "execution_count": null,
   "id": "34677216",
   "metadata": {},
   "outputs": [],
   "source": []
  }
 ],
 "metadata": {
  "kernelspec": {
   "display_name": "Python 3 (ipykernel)",
   "language": "python",
   "name": "python3"
  },
  "language_info": {
   "codemirror_mode": {
    "name": "ipython",
    "version": 3
   },
   "file_extension": ".py",
   "mimetype": "text/x-python",
   "name": "python",
   "nbconvert_exporter": "python",
   "pygments_lexer": "ipython3",
   "version": "3.9.13"
  }
 },
 "nbformat": 4,
 "nbformat_minor": 5
}
