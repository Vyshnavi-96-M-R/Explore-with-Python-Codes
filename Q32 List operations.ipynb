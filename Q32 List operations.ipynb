{
 "cells": [
  {
   "cell_type": "code",
   "execution_count": 1,
   "id": "7d6b3bf2",
   "metadata": {},
   "outputs": [
    {
     "name": "stdout",
     "output_type": "stream",
     "text": [
      "Enter the numbers : 1 2 3 4 5\n",
      "Your List is :  [1, 2, 3, 4, 5]\n",
      "Sum :  15\n",
      "Average :  3.0\n",
      "Max :  5\n",
      "Min :  1\n"
     ]
    }
   ],
   "source": [
    "# Q3.Write a program to take a list of numbers as input (in a single line) and print the sum, avg, max and min elements.\n",
    "\n",
    "N=list(map(int,input(\"Enter the numbers : \").split()))\n",
    "print(\"Your List is : \",N)\n",
    "S=sum(N)\n",
    "print(\"Sum : \",S)\n",
    "avg=S/len(N)\n",
    "print(\"Average : \",avg)\n",
    "print(\"Max : \",max(N))\n",
    "print(\"Min : \",min(N))"
   ]
  },
  {
   "cell_type": "code",
   "execution_count": null,
   "id": "da150c17",
   "metadata": {},
   "outputs": [],
   "source": []
  }
 ],
 "metadata": {
  "kernelspec": {
   "display_name": "Python 3 (ipykernel)",
   "language": "python",
   "name": "python3"
  },
  "language_info": {
   "codemirror_mode": {
    "name": "ipython",
    "version": 3
   },
   "file_extension": ".py",
   "mimetype": "text/x-python",
   "name": "python",
   "nbconvert_exporter": "python",
   "pygments_lexer": "ipython3",
   "version": "3.9.13"
  }
 },
 "nbformat": 4,
 "nbformat_minor": 5
}
