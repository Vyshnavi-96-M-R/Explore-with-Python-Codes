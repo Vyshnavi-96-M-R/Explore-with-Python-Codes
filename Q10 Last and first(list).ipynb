{
 "cells": [
  {
   "cell_type": "code",
   "execution_count": 67,
   "id": "e98a2043",
   "metadata": {},
   "outputs": [
    {
     "name": "stdout",
     "output_type": "stream",
     "text": [
      "Enter a number : 5\n",
      "Enter the numbers : 12,13,14,15,16\n",
      "False\n"
     ]
    }
   ],
   "source": [
    "# Q5 Write a function to return True if the first and last number of a given list is same. If numbers are different then return False.\n",
    "#[11, 13, 17, 19, 11] --> True\n",
    "#[24, 36, 12, 31, 42] --> False\n",
    "\n",
    "# METHOD 1\n",
    "\n",
    "n=int(input(\"Enter a number : \"))\n",
    "a=list(map(int,input(\"Enter the numbers : \").split(\",\")))\n",
    "if a[0]==a[-1]:\n",
    "    print('True')\n",
    "else:\n",
    "    print('False')"
   ]
  },
  {
   "cell_type": "code",
   "execution_count": 70,
   "id": "b6b47bba",
   "metadata": {},
   "outputs": [],
   "source": [
    "# Method 2 (Using function)\n",
    "\n",
    "def first_and_last(l1):                  \n",
    "        for i in range(0, len(l1)-1):  \n",
    "            if l1[0]==l1[-1]:   \n",
    "                return ('True')\n",
    "        else:\n",
    "            return('False') "
   ]
  },
  {
   "cell_type": "code",
   "execution_count": 71,
   "id": "bae95e6d",
   "metadata": {},
   "outputs": [
    {
     "data": {
      "text/plain": [
       "'True'"
      ]
     },
     "execution_count": 71,
     "metadata": {},
     "output_type": "execute_result"
    }
   ],
   "source": [
    "first_and_last([11,13,17,19,11])"
   ]
  },
  {
   "cell_type": "code",
   "execution_count": 72,
   "id": "3e3c48b8",
   "metadata": {},
   "outputs": [
    {
     "data": {
      "text/plain": [
       "'False'"
      ]
     },
     "execution_count": 72,
     "metadata": {},
     "output_type": "execute_result"
    }
   ],
   "source": [
    "first_and_last([24,32,12,12,42])"
   ]
  }
 ],
 "metadata": {
  "kernelspec": {
   "display_name": "Python 3 (ipykernel)",
   "language": "python",
   "name": "python3"
  },
  "language_info": {
   "codemirror_mode": {
    "name": "ipython",
    "version": 3
   },
   "file_extension": ".py",
   "mimetype": "text/x-python",
   "name": "python",
   "nbconvert_exporter": "python",
   "pygments_lexer": "ipython3",
   "version": "3.9.13"
  }
 },
 "nbformat": 4,
 "nbformat_minor": 5
}
