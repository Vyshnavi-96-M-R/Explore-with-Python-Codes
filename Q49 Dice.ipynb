{
 "cells": [
  {
   "cell_type": "code",
   "execution_count": 2,
   "id": "00f79703",
   "metadata": {},
   "outputs": [
    {
     "name": "stdout",
     "output_type": "stream",
     "text": [
      "Enter the Outcomes : 1 2 3 4 5 6 1 2 3 4 5 6\n",
      "Score of Tom :  4\n",
      "Score of Bob :  2\n",
      "Winner is Tom, gets 4 points\n"
     ]
    }
   ],
   "source": [
    "# Q1. Tom and Bob are playing a game of dice. Each time a multiple of two comes up Tom gets a point and if a multiple of 3 comes up bob gets a point. If a multiple of both comes up then a point is deducted from both. Write a program to take a list as input consisting of 10 outcomes of the dice throw. Print the scores of both Tom and bob and the winner.\n",
    "\n",
    "\n",
    "dice=list(map(int,input(\"Enter the Outcomes : \").split()))[:10]\n",
    "tom_score=0\n",
    "bob_score=0\n",
    "for outcome in dice:\n",
    "        if outcome % 2 == 0:\n",
    "            tom_score += 1\n",
    "        if outcome % 3== 0:\n",
    "            bob_score += 1\n",
    "        if outcome %2 == 0 and outcome %3 == 0:\n",
    "            tom_score -= 1\n",
    "            bob_score -= 1\n",
    "print(\"Score of Tom : \",tom_score)\n",
    "print(\"Score of Bob : \",bob_score)\n",
    "if tom_score > bob_score:\n",
    "    print(\"Winner is Tom, gets\",tom_score,\"points\")\n",
    "elif bob_score > tom_score:\n",
    "    print(\"Winner is Bob, gets\",bob_score,\"points\")\n",
    "else:\n",
    "    print(\"Both are same score\",tom_score)  \n"
   ]
  },
  {
   "cell_type": "code",
   "execution_count": null,
   "id": "2de326ad",
   "metadata": {},
   "outputs": [],
   "source": []
  }
 ],
 "metadata": {
  "kernelspec": {
   "display_name": "Python 3 (ipykernel)",
   "language": "python",
   "name": "python3"
  },
  "language_info": {
   "codemirror_mode": {
    "name": "ipython",
    "version": 3
   },
   "file_extension": ".py",
   "mimetype": "text/x-python",
   "name": "python",
   "nbconvert_exporter": "python",
   "pygments_lexer": "ipython3",
   "version": "3.9.13"
  }
 },
 "nbformat": 4,
 "nbformat_minor": 5
}
