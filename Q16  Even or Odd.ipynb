{
 "cells": [
  {
   "cell_type": "code",
   "execution_count": 1,
   "id": "f78f19d9",
   "metadata": {},
   "outputs": [
    {
     "name": "stdout",
     "output_type": "stream",
     "text": [
      "Enter a number: 56\n",
      "56 is even number\n"
     ]
    }
   ],
   "source": [
    "# 5.Write a program to Generate a Random Number from 1 to 100 and check if it's even or odd number\n",
    "# Method 1\n",
    "n=int(input(\"Enter a number: \"))\n",
    "if n>=1 and n<=100:\n",
    "    if n%2==0:\n",
    "        print(n,\"is even number\")\n",
    "    else:\n",
    "        print(n,\"is odd number\")\n",
    "else:\n",
    "    print(n,\"is not within the range\")\n",
    "            "
   ]
  },
  {
   "cell_type": "code",
   "execution_count": 1,
   "id": "0a138762",
   "metadata": {},
   "outputs": [
    {
     "name": "stdout",
     "output_type": "stream",
     "text": [
      "1 is Odd number\n",
      "2 is Even number\n",
      "3 is Odd number\n",
      "4 is Even number\n",
      "5 is Odd number\n",
      "6 is Even number\n",
      "7 is Odd number\n",
      "8 is Even number\n",
      "9 is Odd number\n",
      "10 is Even number\n",
      "11 is Odd number\n",
      "12 is Even number\n",
      "13 is Odd number\n",
      "14 is Even number\n",
      "15 is Odd number\n",
      "16 is Even number\n",
      "17 is Odd number\n",
      "18 is Even number\n",
      "19 is Odd number\n",
      "20 is Even number\n",
      "21 is Odd number\n",
      "22 is Even number\n",
      "23 is Odd number\n",
      "24 is Even number\n",
      "25 is Odd number\n",
      "26 is Even number\n",
      "27 is Odd number\n",
      "28 is Even number\n",
      "29 is Odd number\n",
      "30 is Even number\n",
      "31 is Odd number\n",
      "32 is Even number\n",
      "33 is Odd number\n",
      "34 is Even number\n",
      "35 is Odd number\n",
      "36 is Even number\n",
      "37 is Odd number\n",
      "38 is Even number\n",
      "39 is Odd number\n",
      "40 is Even number\n",
      "41 is Odd number\n",
      "42 is Even number\n",
      "43 is Odd number\n",
      "44 is Even number\n",
      "45 is Odd number\n",
      "46 is Even number\n",
      "47 is Odd number\n",
      "48 is Even number\n",
      "49 is Odd number\n",
      "50 is Even number\n",
      "51 is Odd number\n",
      "52 is Even number\n",
      "53 is Odd number\n",
      "54 is Even number\n",
      "55 is Odd number\n",
      "56 is Even number\n",
      "57 is Odd number\n",
      "58 is Even number\n",
      "59 is Odd number\n",
      "60 is Even number\n",
      "61 is Odd number\n",
      "62 is Even number\n",
      "63 is Odd number\n",
      "64 is Even number\n",
      "65 is Odd number\n",
      "66 is Even number\n",
      "67 is Odd number\n",
      "68 is Even number\n",
      "69 is Odd number\n",
      "70 is Even number\n",
      "71 is Odd number\n",
      "72 is Even number\n",
      "73 is Odd number\n",
      "74 is Even number\n",
      "75 is Odd number\n",
      "76 is Even number\n",
      "77 is Odd number\n",
      "78 is Even number\n",
      "79 is Odd number\n",
      "80 is Even number\n",
      "81 is Odd number\n",
      "82 is Even number\n",
      "83 is Odd number\n",
      "84 is Even number\n",
      "85 is Odd number\n",
      "86 is Even number\n",
      "87 is Odd number\n",
      "88 is Even number\n",
      "89 is Odd number\n",
      "90 is Even number\n",
      "91 is Odd number\n",
      "92 is Even number\n",
      "93 is Odd number\n",
      "94 is Even number\n",
      "95 is Odd number\n",
      "96 is Even number\n",
      "97 is Odd number\n",
      "98 is Even number\n",
      "99 is Odd number\n",
      "100 is Even number\n"
     ]
    }
   ],
   "source": [
    "# Method 2\n",
    "for n in range(1,101):\n",
    "    if n%2==0:\n",
    "        print(n,\"is Even number\")\n",
    "    else:\n",
    "        print(n,\"is Odd number\")"
   ]
  },
  {
   "cell_type": "code",
   "execution_count": 12,
   "id": "f1d6d06b",
   "metadata": {},
   "outputs": [
    {
     "name": "stdout",
     "output_type": "stream",
     "text": [
      "47\n",
      "47 is an Odd number\n"
     ]
    }
   ],
   "source": [
    "# Method 2\n",
    "import random\n",
    "n=random.randint(1,100)\n",
    "print(n)\n",
    "temp=n\n",
    "if temp%2==0:\n",
    "    print(temp,\"is an Even number\")\n",
    "else:\n",
    "    print(temp,\"is an Odd number\")\n",
    "   \n",
    "           "
   ]
  }
 ],
 "metadata": {
  "kernelspec": {
   "display_name": "Python 3 (ipykernel)",
   "language": "python",
   "name": "python3"
  },
  "language_info": {
   "codemirror_mode": {
    "name": "ipython",
    "version": 3
   },
   "file_extension": ".py",
   "mimetype": "text/x-python",
   "name": "python",
   "nbconvert_exporter": "python",
   "pygments_lexer": "ipython3",
   "version": "3.9.13"
  }
 },
 "nbformat": 4,
 "nbformat_minor": 5
}
