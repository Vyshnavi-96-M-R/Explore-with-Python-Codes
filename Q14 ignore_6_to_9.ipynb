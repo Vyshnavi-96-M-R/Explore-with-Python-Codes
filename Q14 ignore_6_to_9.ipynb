{
 "cells": [
  {
   "cell_type": "code",
   "execution_count": 25,
   "id": "3bb055e1",
   "metadata": {},
   "outputs": [],
   "source": [
    "# Q4 Create a function ignore_6_to_9 that returns the sum of the numbers in the array, except ignore sections of numbers starting with a 6 and extending to the next 9 (every 6 will be followed by at least one 9). Return 0 for no numbers.\n",
    "\n",
    "# ignore_6_to_9([1, 3, 5]) --> 9\n",
    "# ignore_6_to_9([4, 5, 6, 7, 8, 9]) --> 9\n",
    "# ignore_6_to_9([2, 1, 6, 9, 11]) --> 14\n",
    "\n",
    "# Method 1\n",
    "\n",
    "def ignore_6_to_9(arr):\n",
    "    if 6 in arr and 9 in arr:\n",
    "        return sum(arr[:arr.index(6)])+sum(arr[arr.index(9)+1:])\n",
    "    elif arr == []:\n",
    "            return '0'\n",
    "    else:\n",
    "        total=0\n",
    "        for x in arr:\n",
    "            total+=x\n",
    "    return total"
   ]
  },
  {
   "cell_type": "code",
   "execution_count": 21,
   "id": "c2293454",
   "metadata": {},
   "outputs": [
    {
     "data": {
      "text/plain": [
       "9"
      ]
     },
     "execution_count": 21,
     "metadata": {},
     "output_type": "execute_result"
    }
   ],
   "source": [
    "ignore_6_to_9([1, 3, 5])"
   ]
  },
  {
   "cell_type": "code",
   "execution_count": 22,
   "id": "a9cee468",
   "metadata": {},
   "outputs": [
    {
     "data": {
      "text/plain": [
       "9"
      ]
     },
     "execution_count": 22,
     "metadata": {},
     "output_type": "execute_result"
    }
   ],
   "source": [
    "ignore_6_to_9([4, 5, 6, 7, 8, 9])"
   ]
  },
  {
   "cell_type": "code",
   "execution_count": 23,
   "id": "9dd68804",
   "metadata": {},
   "outputs": [
    {
     "data": {
      "text/plain": [
       "14"
      ]
     },
     "execution_count": 23,
     "metadata": {},
     "output_type": "execute_result"
    }
   ],
   "source": [
    "ignore_6_to_9([2, 1, 6, 9, 11])"
   ]
  },
  {
   "cell_type": "code",
   "execution_count": 26,
   "id": "ad620aa2",
   "metadata": {},
   "outputs": [
    {
     "data": {
      "text/plain": [
       "148"
      ]
     },
     "execution_count": 26,
     "metadata": {},
     "output_type": "execute_result"
    }
   ],
   "source": [
    "ignore_6_to_9([2, 1, 6, 9, 6, 11, 25, 36, 11, 9, 4, 6, 4, 6, 3, 9, 15])"
   ]
  },
  {
   "cell_type": "code",
   "execution_count": 24,
   "id": "be4b51d8",
   "metadata": {},
   "outputs": [
    {
     "data": {
      "text/plain": [
       "'0'"
      ]
     },
     "execution_count": 24,
     "metadata": {},
     "output_type": "execute_result"
    }
   ],
   "source": [
    "ignore_6_to_9([])"
   ]
  },
  {
   "cell_type": "code",
   "execution_count": 12,
   "id": "d29c2276",
   "metadata": {},
   "outputs": [],
   "source": [
    "# Method 2\n",
    "\n",
    "def ignore_6_to_9(l1):\n",
    "    i= iter(l1)\n",
    "    return sum(x for x in i if x != 6 or 9 not in i)"
   ]
  },
  {
   "cell_type": "code",
   "execution_count": 14,
   "id": "57bcbda9",
   "metadata": {},
   "outputs": [
    {
     "data": {
      "text/plain": [
       "9"
      ]
     },
     "execution_count": 14,
     "metadata": {},
     "output_type": "execute_result"
    }
   ],
   "source": [
    "ignore_6_to_9([1, 3, 5])"
   ]
  },
  {
   "cell_type": "code",
   "execution_count": 16,
   "id": "9c9b7e2a",
   "metadata": {},
   "outputs": [
    {
     "data": {
      "text/plain": [
       "9"
      ]
     },
     "execution_count": 16,
     "metadata": {},
     "output_type": "execute_result"
    }
   ],
   "source": [
    "ignore_6_to_9([4, 5, 6, 7, 8, 9])"
   ]
  },
  {
   "cell_type": "code",
   "execution_count": 18,
   "id": "12e9ee7c",
   "metadata": {},
   "outputs": [
    {
     "data": {
      "text/plain": [
       "14"
      ]
     },
     "execution_count": 18,
     "metadata": {},
     "output_type": "execute_result"
    }
   ],
   "source": [
    "ignore_6_to_9([2, 1, 6, 9, 11])"
   ]
  },
  {
   "cell_type": "code",
   "execution_count": 19,
   "id": "290214ac",
   "metadata": {},
   "outputs": [
    {
     "data": {
      "text/plain": [
       "0"
      ]
     },
     "execution_count": 19,
     "metadata": {},
     "output_type": "execute_result"
    }
   ],
   "source": [
    "ignore_6_to_9([])"
   ]
  }
 ],
 "metadata": {
  "kernelspec": {
   "display_name": "Python 3 (ipykernel)",
   "language": "python",
   "name": "python3"
  },
  "language_info": {
   "codemirror_mode": {
    "name": "ipython",
    "version": 3
   },
   "file_extension": ".py",
   "mimetype": "text/x-python",
   "name": "python",
   "nbconvert_exporter": "python",
   "pygments_lexer": "ipython3",
   "version": "3.9.13"
  }
 },
 "nbformat": 4,
 "nbformat_minor": 5
}
