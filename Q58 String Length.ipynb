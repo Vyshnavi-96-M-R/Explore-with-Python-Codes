{
 "cells": [
  {
   "cell_type": "code",
   "execution_count": 4,
   "id": "f88f8247",
   "metadata": {},
   "outputs": [
    {
     "name": "stdout",
     "output_type": "stream",
     "text": [
      "Enter the String : I Love India\n",
      "The string have odd length\n"
     ]
    }
   ],
   "source": [
    "# Q5. Take a string as input and find out the number of words with even length and number of words with odd length.\n",
    "\n",
    "\n",
    "S=input(\"Enter the String : \")\n",
    "if len(S.split())%2==0:\n",
    "    print(\"The string have even length\")\n",
    "else:\n",
    "    print(\"The string have odd length\")"
   ]
  },
  {
   "cell_type": "code",
   "execution_count": null,
   "id": "471ad344",
   "metadata": {},
   "outputs": [],
   "source": []
  }
 ],
 "metadata": {
  "kernelspec": {
   "display_name": "Python 3 (ipykernel)",
   "language": "python",
   "name": "python3"
  },
  "language_info": {
   "codemirror_mode": {
    "name": "ipython",
    "version": 3
   },
   "file_extension": ".py",
   "mimetype": "text/x-python",
   "name": "python",
   "nbconvert_exporter": "python",
   "pygments_lexer": "ipython3",
   "version": "3.9.13"
  }
 },
 "nbformat": 4,
 "nbformat_minor": 5
}
