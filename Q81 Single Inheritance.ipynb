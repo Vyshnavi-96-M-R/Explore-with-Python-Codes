{
 "cells": [
  {
   "cell_type": "markdown",
   "id": "1f41fe73",
   "metadata": {},
   "source": [
    "# Level 2 : Assignment 5 : Single Inheritance"
   ]
  },
  {
   "cell_type": "code",
   "execution_count": 32,
   "id": "871ef6c1",
   "metadata": {},
   "outputs": [],
   "source": [
    "class Person():\n",
    "    name=None\n",
    "    age=None\n",
    "    city=None\n",
    "      \n",
    "    def _init_(self,name,age,city):\n",
    "        self.name=name\n",
    "        self.age=age\n",
    "        self.city=city\n",
    "        \n",
    "        \n",
    "    def show_details(self):\n",
    "        print(\"Name : \",self.name)\n",
    "        print(\"Age : \",self.age)\n",
    "        print(\"City : \",self.city)\n",
    "        \n",
    "        \n",
    "    def update_city(self,new_city):\n",
    "        self.city=new_city       "
   ]
  },
  {
   "cell_type": "code",
   "execution_count": 33,
   "id": "dfe7e875",
   "metadata": {},
   "outputs": [],
   "source": [
    "class Employee(Person):\n",
    "    salary=None\n",
    "    position=None\n",
    "    dept=None\n",
    "    \n",
    "    def _init_(self,name,age,city,salary,position,dept):\n",
    "        super()._init_(name,age,city)\n",
    "        self.salary=salary\n",
    "        self.position=position\n",
    "        self.dept=dept\n",
    "        \n",
    "        \n",
    "    def show_details(self):\n",
    "        super().show_details()\n",
    "        print(\"Salary : \",self.salary)\n",
    "        print(\"Position : \",self.position)\n",
    "        print(\"Department : \",self.dept)\n",
    "        \n",
    "        \n",
    "    def update_salary(self,new_salary):\n",
    "        self.salary=new_salary\n",
    "        \n",
    "        \n",
    "    def update_dept(self,new_dept):\n",
    "        self.dept=new_dept\n",
    "        \n",
    "        \n",
    "    def update_position(self,new_pos):\n",
    "        self.position=new_pos\n",
    "        \n",
    "        \n",
    "    def inc_salary(self):\n",
    "        inc_salary=int(input(\"New Salary : \"))\n",
    "        print(\"Current Salary : \",self.salary)\n",
    "        if inc_salary > self.salary:\n",
    "            salary_hike=((inc_salary-self.salary)/self.salary)*100\n",
    "            print(\"Salary hike % : \",salary_hike)\n",
    "        else:\n",
    "            print(\"No hike\")\n",
    "        \n",
    "        \n",
    "    def decr_salary(self):\n",
    "        print(\"Current Salary : \",self.salary)\n",
    "        decr_salary=int(input(\"New Salary : \"))\n",
    "        if decr_salary < self.salary:\n",
    "            salary_decr=((self.salary-decr_salary)/decr_salary)*100\n",
    "            print(\"Salary decrement % : \",salary_decr)\n",
    "        else:\n",
    "            print(\"No Decrement\")\n",
    "                     "
   ]
  },
  {
   "cell_type": "code",
   "execution_count": 34,
   "id": "affcff56",
   "metadata": {},
   "outputs": [],
   "source": [
    "e1=Employee() "
   ]
  },
  {
   "cell_type": "code",
   "execution_count": 35,
   "id": "16365c6c",
   "metadata": {},
   "outputs": [
    {
     "name": "stdout",
     "output_type": "stream",
     "text": [
      "Name :  None\n",
      "Age :  None\n",
      "City :  None\n",
      "Salary :  None\n",
      "Position :  None\n",
      "Department :  None\n"
     ]
    }
   ],
   "source": [
    "e1.show_details()"
   ]
  },
  {
   "cell_type": "code",
   "execution_count": 36,
   "id": "326d5964",
   "metadata": {},
   "outputs": [],
   "source": [
    "e1.update_city(\"Kochi\")"
   ]
  },
  {
   "cell_type": "code",
   "execution_count": 37,
   "id": "f9841b47",
   "metadata": {},
   "outputs": [],
   "source": [
    "e1.update_salary(40000)"
   ]
  },
  {
   "cell_type": "code",
   "execution_count": 38,
   "id": "321c9832",
   "metadata": {},
   "outputs": [],
   "source": [
    "e1.update_dept(\"HR\")"
   ]
  },
  {
   "cell_type": "code",
   "execution_count": 39,
   "id": "a1050a22",
   "metadata": {},
   "outputs": [],
   "source": [
    "e1.update_position(\"Senior HR\")"
   ]
  },
  {
   "cell_type": "code",
   "execution_count": 40,
   "id": "20b74cb6",
   "metadata": {},
   "outputs": [
    {
     "name": "stdout",
     "output_type": "stream",
     "text": [
      "Name :  None\n",
      "Age :  None\n",
      "City :  Kochi\n",
      "Salary :  40000\n",
      "Position :  Senior HR\n",
      "Department :  HR\n"
     ]
    }
   ],
   "source": [
    "e1.show_details()"
   ]
  },
  {
   "cell_type": "code",
   "execution_count": 11,
   "id": "2a2ca3d7",
   "metadata": {},
   "outputs": [
    {
     "name": "stdout",
     "output_type": "stream",
     "text": [
      "New Salary : 50000\n",
      "Current Salary :  40000\n",
      "Salary hike % :  25.0\n"
     ]
    }
   ],
   "source": [
    "e1.inc_salary()"
   ]
  },
  {
   "cell_type": "code",
   "execution_count": 12,
   "id": "c15dfe4d",
   "metadata": {},
   "outputs": [
    {
     "name": "stdout",
     "output_type": "stream",
     "text": [
      "New Salary : 40000\n",
      "Current Salary :  40000\n",
      "No hike\n"
     ]
    }
   ],
   "source": [
    "e1.inc_salary()"
   ]
  },
  {
   "cell_type": "code",
   "execution_count": 13,
   "id": "7f0f8f14",
   "metadata": {},
   "outputs": [
    {
     "name": "stdout",
     "output_type": "stream",
     "text": [
      "New Salary : 35000\n",
      "Current Salary :  40000\n",
      "No hike\n"
     ]
    }
   ],
   "source": [
    "e1.inc_salary()"
   ]
  },
  {
   "cell_type": "code",
   "execution_count": 22,
   "id": "c700f2a0",
   "metadata": {},
   "outputs": [
    {
     "name": "stdout",
     "output_type": "stream",
     "text": [
      "Current Salary :  40000\n",
      "New Salary : 32000\n",
      "Salary decrement % :  25.0\n"
     ]
    }
   ],
   "source": [
    "e1.decr_salary()"
   ]
  },
  {
   "cell_type": "code",
   "execution_count": 30,
   "id": "a58517b7",
   "metadata": {},
   "outputs": [
    {
     "name": "stdout",
     "output_type": "stream",
     "text": [
      "Current Salary :  40000\n",
      "New Salary : 50000\n",
      "No Decrement\n"
     ]
    }
   ],
   "source": [
    "e1.decr_salary()"
   ]
  },
  {
   "cell_type": "code",
   "execution_count": 31,
   "id": "d9430a59",
   "metadata": {},
   "outputs": [
    {
     "name": "stdout",
     "output_type": "stream",
     "text": [
      "Current Salary :  40000\n",
      "New Salary : 40000\n",
      "No Decrement\n"
     ]
    }
   ],
   "source": [
    "e1.decr_salary()"
   ]
  },
  {
   "cell_type": "code",
   "execution_count": null,
   "id": "9fb7b0e4",
   "metadata": {},
   "outputs": [],
   "source": []
  }
 ],
 "metadata": {
  "kernelspec": {
   "display_name": "Python 3 (ipykernel)",
   "language": "python",
   "name": "python3"
  },
  "language_info": {
   "codemirror_mode": {
    "name": "ipython",
    "version": 3
   },
   "file_extension": ".py",
   "mimetype": "text/x-python",
   "name": "python",
   "nbconvert_exporter": "python",
   "pygments_lexer": "ipython3",
   "version": "3.9.13"
  }
 },
 "nbformat": 4,
 "nbformat_minor": 5
}
