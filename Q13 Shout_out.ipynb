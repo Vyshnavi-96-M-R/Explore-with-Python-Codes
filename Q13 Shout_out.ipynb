{
 "cells": [
  {
   "cell_type": "code",
   "execution_count": 81,
   "id": "b2f58d3a",
   "metadata": {},
   "outputs": [],
   "source": [
    "# Q3 Create a function shout_out Given a string, return a string where:\n",
    "\n",
    "# for every character in the original there are three characters\n",
    "# shout_out('character') --> 'ccchhhaaarrraaacccttteeerrr'\n",
    "# shout_out('original') --> 'ooorrriiigggiiinnnaaalll'\n",
    "\n",
    "\n",
    "def shout_out(s):\n",
    "        mul=\" \"\n",
    "        for i in s:\n",
    "            mul+=i*3\n",
    "        return mul"
   ]
  },
  {
   "cell_type": "code",
   "execution_count": 82,
   "id": "2db23b7f",
   "metadata": {},
   "outputs": [
    {
     "data": {
      "text/plain": [
       "' ccchhhaaarrraaacccttteeerrr'"
      ]
     },
     "execution_count": 82,
     "metadata": {},
     "output_type": "execute_result"
    }
   ],
   "source": [
    "shout_out('character')"
   ]
  },
  {
   "cell_type": "code",
   "execution_count": 83,
   "id": "604d74f5",
   "metadata": {},
   "outputs": [
    {
     "data": {
      "text/plain": [
       "' ooorrriiigggiiinnnaaalll'"
      ]
     },
     "execution_count": 83,
     "metadata": {},
     "output_type": "execute_result"
    }
   ],
   "source": [
    "shout_out('original')"
   ]
  }
 ],
 "metadata": {
  "kernelspec": {
   "display_name": "Python 3 (ipykernel)",
   "language": "python",
   "name": "python3"
  },
  "language_info": {
   "codemirror_mode": {
    "name": "ipython",
    "version": 3
   },
   "file_extension": ".py",
   "mimetype": "text/x-python",
   "name": "python",
   "nbconvert_exporter": "python",
   "pygments_lexer": "ipython3",
   "version": "3.9.13"
  }
 },
 "nbformat": 4,
 "nbformat_minor": 5
}
