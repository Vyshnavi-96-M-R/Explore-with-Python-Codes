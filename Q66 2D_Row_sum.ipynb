{
 "cells": [
  {
   "cell_type": "code",
   "execution_count": 5,
   "id": "b1ffcdc3",
   "metadata": {},
   "outputs": [
    {
     "data": {
      "text/plain": [
       "[60, 120, 105]"
      ]
     },
     "execution_count": 5,
     "metadata": {},
     "output_type": "execute_result"
    }
   ],
   "source": [
    "# Q12. Create a function which takes a 2-D list of shape m * n where m is number of elements in the original list and where each element is a list having n integers (A list of m lists having n numbers each). The function returns the sum of all rows in the matrix (2 D list).\n",
    "\n",
    "\n",
    "\n",
    "def Row_sum(l1):\n",
    "    list1=[]\n",
    "    for i in l1:\n",
    "        list1.append(sum(i))\n",
    "    return list1\n",
    "\n",
    "\n",
    "\n",
    "Matrix=([[10,20,30],[30,40,50],[70,10,25]])\n",
    "Row_sum(Matrix)"
   ]
  },
  {
   "cell_type": "code",
   "execution_count": null,
   "id": "099882fa",
   "metadata": {},
   "outputs": [],
   "source": []
  }
 ],
 "metadata": {
  "kernelspec": {
   "display_name": "Python 3 (ipykernel)",
   "language": "python",
   "name": "python3"
  },
  "language_info": {
   "codemirror_mode": {
    "name": "ipython",
    "version": 3
   },
   "file_extension": ".py",
   "mimetype": "text/x-python",
   "name": "python",
   "nbconvert_exporter": "python",
   "pygments_lexer": "ipython3",
   "version": "3.9.13"
  }
 },
 "nbformat": 4,
 "nbformat_minor": 5
}
