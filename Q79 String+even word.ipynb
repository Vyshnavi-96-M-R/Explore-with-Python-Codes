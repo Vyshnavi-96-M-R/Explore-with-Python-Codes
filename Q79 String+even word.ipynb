{
 "cells": [
  {
   "cell_type": "code",
   "execution_count": 60,
   "id": "1d504e78",
   "metadata": {},
   "outputs": [],
   "source": [
    "# Q8 Create a function that takes a string and returns a string after joining the words that are having even lengths.\n",
    "\n",
    "\n",
    "def EvenString(s):\n",
    "    new_string=s.split()\n",
    "    for i in new_string:\n",
    "        if len(i)%2==0:\n",
    "            print(i,end=\"\")"
   ]
  },
  {
   "cell_type": "code",
   "execution_count": 64,
   "id": "e57687a6",
   "metadata": {},
   "outputs": [
    {
     "name": "stdout",
     "output_type": "stream",
     "text": [
      "MyNameisVyshnavi"
     ]
    }
   ],
   "source": [
    "EvenString(\"My Name is Vyshnavi\")"
   ]
  },
  {
   "cell_type": "code",
   "execution_count": 65,
   "id": "4bedc81b",
   "metadata": {},
   "outputs": [
    {
     "name": "stdout",
     "output_type": "stream",
     "text": [
      "MyNameis"
     ]
    }
   ],
   "source": [
    "EvenString(\"My Name is Poppy\")"
   ]
  },
  {
   "cell_type": "code",
   "execution_count": 66,
   "id": "bc4fad46",
   "metadata": {},
   "outputs": [
    {
     "name": "stdout",
     "output_type": "stream",
     "text": [
      "Love"
     ]
    }
   ],
   "source": [
    "EvenString(\"I Love India\")"
   ]
  },
  {
   "cell_type": "code",
   "execution_count": null,
   "id": "0262c644",
   "metadata": {},
   "outputs": [],
   "source": []
  }
 ],
 "metadata": {
  "kernelspec": {
   "display_name": "Python 3 (ipykernel)",
   "language": "python",
   "name": "python3"
  },
  "language_info": {
   "codemirror_mode": {
    "name": "ipython",
    "version": 3
   },
   "file_extension": ".py",
   "mimetype": "text/x-python",
   "name": "python",
   "nbconvert_exporter": "python",
   "pygments_lexer": "ipython3",
   "version": "3.9.13"
  }
 },
 "nbformat": 4,
 "nbformat_minor": 5
}
