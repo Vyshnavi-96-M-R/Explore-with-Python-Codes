{
 "cells": [
  {
   "cell_type": "code",
   "execution_count": 1,
   "id": "07bacea8",
   "metadata": {},
   "outputs": [
    {
     "name": "stdout",
     "output_type": "stream",
     "text": [
      " \n",
      "CurrentNumber 0  PreviousNumber 0  Sum:0\n",
      " \n",
      "CurrentNumber 1  PreviousNumber 0  Sum:1\n",
      " \n",
      "CurrentNumber 2  PreviousNumber 1  Sum:3\n",
      " \n",
      "CurrentNumber 3  PreviousNumber 2  Sum:5\n",
      " \n",
      "CurrentNumber 4  PreviousNumber 3  Sum:7\n",
      " \n",
      "CurrentNumber 5  PreviousNumber 4  Sum:9\n",
      " \n",
      "CurrentNumber 6  PreviousNumber 5  Sum:11\n",
      " \n",
      "CurrentNumber 7  PreviousNumber 6  Sum:13\n",
      " \n",
      "CurrentNumber 8  PreviousNumber 7  Sum:15\n",
      " \n",
      "CurrentNumber 9  PreviousNumber 8  Sum:17\n",
      " \n",
      "CurrentNumber 10  PreviousNumber 9  Sum:19\n"
     ]
    }
   ],
   "source": [
    "# Q5 Write a program to iterate the first 10 numbers and in each iteration, print the sum of the current and previous number.\n",
    "# Current Number 0 Previous Number 0 Sum: 0\n",
    "# Current Number 1 Previous Number 0 Sum: 1 and so on\n",
    "\n",
    "n=list(range(0,11))\n",
    "pn=0\n",
    "for i in n:\n",
    "    sum=pn+i\n",
    "    print(' ')\n",
    "    print('CurrentNumber '+str(i)+'  '+'PreviousNumber '+str(pn)+'  '+'Sum:'+str(sum))\n",
    "    pn=i"
   ]
  }
 ],
 "metadata": {
  "kernelspec": {
   "display_name": "Python 3 (ipykernel)",
   "language": "python",
   "name": "python3"
  },
  "language_info": {
   "codemirror_mode": {
    "name": "ipython",
    "version": 3
   },
   "file_extension": ".py",
   "mimetype": "text/x-python",
   "name": "python",
   "nbconvert_exporter": "python",
   "pygments_lexer": "ipython3",
   "version": "3.9.13"
  }
 },
 "nbformat": 4,
 "nbformat_minor": 5
}
