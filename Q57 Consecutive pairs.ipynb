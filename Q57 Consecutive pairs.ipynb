{
 "cells": [
  {
   "cell_type": "code",
   "execution_count": 34,
   "id": "9350ae18",
   "metadata": {},
   "outputs": [
    {
     "name": "stdout",
     "output_type": "stream",
     "text": [
      "Entera list of numbers : 2 3 5 6 8 7 1 21 3 1 10 9 2\n",
      "Enter the target sum : 11\n",
      "(5, 6)\n",
      "(1, 10)\n",
      "(9, 2)\n"
     ]
    }
   ],
   "source": [
    "# Q4. Take a list and a number as input, print all consecutive pairs of two numbers from the list having sum equal to the given number.\n",
    "\n",
    "\n",
    "l1=list(map(int,input(\"Entera list of numbers : \").split())) \n",
    "s1=int(input(\"Enter the target sum : \"))\n",
    "for i in range(len(l1)-1):\n",
    "    if l1[i]+l1[i+1]==s1:\n",
    "        print((l1[i],l1[i+1]))\n",
    "else:\n",
    "    pass   "
   ]
  },
  {
   "cell_type": "code",
   "execution_count": null,
   "id": "d3988fc2",
   "metadata": {},
   "outputs": [],
   "source": []
  }
 ],
 "metadata": {
  "kernelspec": {
   "display_name": "Python 3 (ipykernel)",
   "language": "python",
   "name": "python3"
  },
  "language_info": {
   "codemirror_mode": {
    "name": "ipython",
    "version": 3
   },
   "file_extension": ".py",
   "mimetype": "text/x-python",
   "name": "python",
   "nbconvert_exporter": "python",
   "pygments_lexer": "ipython3",
   "version": "3.9.13"
  }
 },
 "nbformat": 4,
 "nbformat_minor": 5
}
