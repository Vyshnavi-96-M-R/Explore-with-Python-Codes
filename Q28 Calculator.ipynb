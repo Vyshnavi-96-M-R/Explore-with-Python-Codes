{
 "cells": [
  {
   "cell_type": "code",
   "execution_count": 1,
   "id": "b35c7edc",
   "metadata": {},
   "outputs": [
    {
     "name": "stdout",
     "output_type": "stream",
     "text": [
      "Select operation.\n",
      "1.Addition\n",
      "2.Subtraction\n",
      "3.Multiplication\n",
      "4.Dividsion\n",
      "Enter your choice(1/2/3/4) : 1\n",
      "Enter first number: 3\n",
      "Enter second number: 5\n",
      "Sum :  8.0\n",
      "You want to Continue ? (Y/N): Y\n",
      "Enter your choice(1/2/3/4) : 6\n",
      "Invalid Input\n",
      "Enter your choice(1/2/3/4) : 3\n",
      "Enter first number: Y\n",
      "Invalid Entry\n",
      "Enter your choice(1/2/3/4) : 2\n",
      "Enter first number: 8\n",
      "Enter second number: 6\n",
      "Diffrence :  2.0\n",
      "You want to Continue ? (Y/N): Y\n",
      "Enter your choice(1/2/3/4) : 8\n",
      "Invalid Input\n",
      "Enter your choice(1/2/3/4) : 2\n",
      "Enter first number: 5\n",
      "Enter second number: 2\n",
      "Diffrence :  3.0\n",
      "You want to Continue ? (Y/N): N\n"
     ]
    }
   ],
   "source": [
    "\n",
    "# Q3.Build a Simple Calculator using Exception Handling (try,except) that solves 4 arithmetic operations like\n",
    "# Addition, Subtraction, Multiplication and Division.\n",
    "\n",
    "\n",
    "\n",
    "print(\"Select operation.\")\n",
    "print(\"1.Addition\")\n",
    "print(\"2.Subtraction\")\n",
    "print(\"3.Multiplication\")\n",
    "print(\"4.Dividsion\")\n",
    "\n",
    "while True:\n",
    "    ch=input(\"Enter your choice(1/2/3/4) : \")\n",
    "    if ch in ('1', '2', '3', '4'):\n",
    "        try:\n",
    "            n1=float(input(\"Enter first number: \"))\n",
    "            n2=float(input(\"Enter second number: \"))\n",
    "        except:\n",
    "            print(\"Invalid Entry\")\n",
    "            continue\n",
    "        if ch=='1':\n",
    "            S=n1+n2\n",
    "            print(\"Sum : \",S)\n",
    "\n",
    "        elif ch=='2':\n",
    "            D=n1-n2\n",
    "            print(\"Diffrence : \",D)\n",
    "\n",
    "        elif ch=='3':\n",
    "            P=n1*n2\n",
    "            print(\"Product : \",P)\n",
    "\n",
    "        elif ch=='4':\n",
    "            if n2==0:\n",
    "                print(\"Cannot be divided by Zero\")\n",
    "            else:\n",
    "                Q=n1/n2\n",
    "                print(\"Quotient : \",Q)\n",
    "        \n",
    "       \n",
    "        step=input(\"You want to Continue ? (Y/N): \")\n",
    "        if step==\"N\":\n",
    "            break\n",
    "    else:\n",
    "        print(\"Invalid Input\")"
   ]
  },
  {
   "cell_type": "code",
   "execution_count": null,
   "id": "30ea736b",
   "metadata": {},
   "outputs": [],
   "source": []
  }
 ],
 "metadata": {
  "kernelspec": {
   "display_name": "Python 3 (ipykernel)",
   "language": "python",
   "name": "python3"
  },
  "language_info": {
   "codemirror_mode": {
    "name": "ipython",
    "version": 3
   },
   "file_extension": ".py",
   "mimetype": "text/x-python",
   "name": "python",
   "nbconvert_exporter": "python",
   "pygments_lexer": "ipython3",
   "version": "3.9.13"
  }
 },
 "nbformat": 4,
 "nbformat_minor": 5
}
