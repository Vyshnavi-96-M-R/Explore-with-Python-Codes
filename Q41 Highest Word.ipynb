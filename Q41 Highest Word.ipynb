{
 "cells": [
  {
   "cell_type": "code",
   "execution_count": 1,
   "id": "ba4839e1",
   "metadata": {},
   "outputs": [
    {
     "name": "stdout",
     "output_type": "stream",
     "text": [
      "Enter the first string S1  : My Name is vyshnavi\n",
      "Enter the second string S2  : Team StarAgile\n",
      "Enter the third string S3  : DataScience\n",
      "The number of words in S1 :  4\n",
      "The number of words in S2 :  2\n",
      "The number of words in S3 :  1\n",
      "S1 contains highest no of words 4\n"
     ]
    }
   ],
   "source": [
    "# Q2. Take three strings as input. Calculate the number of words in each string and find out the list having highest number of words\n",
    "\n",
    "S1=input(\"Enter the first string S1  : \")\n",
    "S2=input(\"Enter the second string S2  : \")\n",
    "S3=input(\"Enter the third string S3  : \")\n",
    "a=len(S1.split())\n",
    "b=len(S2.split())\n",
    "c=len(S3.split())\n",
    "print (\"The number of words in S1 : \",a)  \n",
    "print (\"The number of words in S2 : \",b)\n",
    "print (\"The number of words in S3 : \",c)\n",
    "if a==b or b==c or a==c:\n",
    "            print(\"Both 2 strings have same no of words\")\n",
    "elif a>b and a>c:\n",
    "            print(\"S1 contains highest no of words\")\n",
    "elif b>a and b>c:\n",
    "            print(\"S2 contains highest no of words\")\n",
    "else:\n",
    "            print(\"S3 contains highest no of words\")    "
   ]
  },
  {
   "cell_type": "code",
   "execution_count": null,
   "id": "98d337b6",
   "metadata": {},
   "outputs": [],
   "source": []
  }
 ],
 "metadata": {
  "kernelspec": {
   "display_name": "Python 3 (ipykernel)",
   "language": "python",
   "name": "python3"
  },
  "language_info": {
   "codemirror_mode": {
    "name": "ipython",
    "version": 3
   },
   "file_extension": ".py",
   "mimetype": "text/x-python",
   "name": "python",
   "nbconvert_exporter": "python",
   "pygments_lexer": "ipython3",
   "version": "3.9.13"
  }
 },
 "nbformat": 4,
 "nbformat_minor": 5
}
