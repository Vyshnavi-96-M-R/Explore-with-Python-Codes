{
 "cells": [
  {
   "cell_type": "code",
   "execution_count": 1,
   "id": "2d38f9ff",
   "metadata": {},
   "outputs": [
    {
     "name": "stdout",
     "output_type": "stream",
     "text": [
      "Enter a number : 5\n",
      "Factorial of 5 is 120\n"
     ]
    }
   ],
   "source": [
    "# 1.Write a program to find the factorial of a give input number\n",
    "num=int(input(\"Enter a number : \"))\n",
    "factorial=1\n",
    "if num>=0:\n",
    "    for i in range(1,num+1): \n",
    "        factorial=factorial*i \n",
    "    print(\"Factorial of\",num,\"is\",factorial)\n",
    "else:\n",
    "    print(\"-ve# does not have factorial\")"
   ]
  }
 ],
 "metadata": {
  "kernelspec": {
   "display_name": "Python 3 (ipykernel)",
   "language": "python",
   "name": "python3"
  },
  "language_info": {
   "codemirror_mode": {
    "name": "ipython",
    "version": 3
   },
   "file_extension": ".py",
   "mimetype": "text/x-python",
   "name": "python",
   "nbconvert_exporter": "python",
   "pygments_lexer": "ipython3",
   "version": "3.9.13"
  }
 },
 "nbformat": 4,
 "nbformat_minor": 5
}
