{
 "cells": [
  {
   "cell_type": "code",
   "execution_count": 1,
   "id": "2b9963d4",
   "metadata": {},
   "outputs": [
    {
     "name": "stdout",
     "output_type": "stream",
     "text": [
      "Enter the Student Marks : 45 42 56 89 100\n",
      "Average Score :  66.4\n",
      "Enter the Student Marks : 85 78 95 100 48\n",
      "Average Score :  81.2\n",
      "Enter the Student Marks : 36 25 47 89 14\n",
      "Average Score :  42.2\n"
     ]
    }
   ],
   "source": [
    "# Q4. Write a program to take the marks of 3 students in five subjects each as a list (one list for each input) as input and print the average score of each student..\n",
    "\n",
    "\n",
    "i=0\n",
    "while i<3:\n",
    "    M=list(map(int,input(\"Enter the Student Marks : \").split()))[:5]\n",
    "    avg=sum(M)/5\n",
    "    print(\"Average Score : \",avg)\n",
    "    i+=1    "
   ]
  },
  {
   "cell_type": "code",
   "execution_count": null,
   "id": "64a98a45",
   "metadata": {},
   "outputs": [],
   "source": []
  }
 ],
 "metadata": {
  "kernelspec": {
   "display_name": "Python 3 (ipykernel)",
   "language": "python",
   "name": "python3"
  },
  "language_info": {
   "codemirror_mode": {
    "name": "ipython",
    "version": 3
   },
   "file_extension": ".py",
   "mimetype": "text/x-python",
   "name": "python",
   "nbconvert_exporter": "python",
   "pygments_lexer": "ipython3",
   "version": "3.9.13"
  }
 },
 "nbformat": 4,
 "nbformat_minor": 5
}
