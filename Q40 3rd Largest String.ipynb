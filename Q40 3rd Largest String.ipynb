{
 "cells": [
  {
   "cell_type": "code",
   "execution_count": 4,
   "id": "0db90815",
   "metadata": {},
   "outputs": [
    {
     "name": "stdout",
     "output_type": "stream",
     "text": [
      "Enter the First string   : I Love India\n",
      "Enter the Second string  : My Name is Vyshnavi\n",
      "Enter the Third string   : Data Science\n",
      "Enter the Fourth string  : Kerala Known as Gods own Country\n",
      "My Name is Vyshnavi\n"
     ]
    }
   ],
   "source": [
    "# Q10. Write a program to take four strings as input and print the string having third highest number of words.\n",
    "\n",
    "\n",
    "list1=[]\n",
    "S1=list1.append(input(\"Enter the First string   : \"))\n",
    "S2=list1.append(input(\"Enter the Second string  : \"))\n",
    "S3=list1.append(input(\"Enter the Third string   : \"))\n",
    "S4=list1.append(input(\"Enter the Fourth string  : \"))\n",
    "list1.sort(key=lambda x: len(x.split()))\n",
    "print(list1[2])"
   ]
  }
 ],
 "metadata": {
  "kernelspec": {
   "display_name": "Python 3 (ipykernel)",
   "language": "python",
   "name": "python3"
  },
  "language_info": {
   "codemirror_mode": {
    "name": "ipython",
    "version": 3
   },
   "file_extension": ".py",
   "mimetype": "text/x-python",
   "name": "python",
   "nbconvert_exporter": "python",
   "pygments_lexer": "ipython3",
   "version": "3.9.13"
  }
 },
 "nbformat": 4,
 "nbformat_minor": 5
}
