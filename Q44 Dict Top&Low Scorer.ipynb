{
 "cells": [
  {
   "cell_type": "code",
   "execution_count": 4,
   "id": "4d9f25c1",
   "metadata": {},
   "outputs": [
    {
     "name": "stdout",
     "output_type": "stream",
     "text": [
      "Ranvir is top scorer :  409 marks\n",
      "Aswathy is lowest scorer :  355 marks\n"
     ]
    }
   ],
   "source": [
    "# Q5.Create a dictionary having three items. Key of each item is the name of a student, value associated with each key is a list of marks in five subjects. Given this dictionary print the top and lowest scorers.\n",
    "\n",
    "\n",
    "Data={\"Amal\":[50,89,100,68,78],\"Aswathy\":[82,95,41,75,62],\"Ranvir\":[87,96,74,100,52]}\n",
    "x1=sum(Data.get(\"Amal\"))\n",
    "x2=sum(Data.get(\"Aswathy\"))\n",
    "x3=sum(Data.get(\"Ranvir\"))\n",
    "if x1==x2 or x2==x3 or x1==x3:\n",
    "        print(\"3 students have same score\")\n",
    "elif x1>x2 and x1>x3:\n",
    "        print(\"Amal is top scorer : \",x1,\"marks\")\n",
    "elif x2>x1 and x2>x3:\n",
    "        print(\"Aswathy is top scorer : \",x2,\"marks\")\n",
    "elif x3>x1 and x3>x2:\n",
    "        print(\"Ranvir is top scorer : \",x3,\"marks\") \n",
    "if x1<x2 and x1<x3:\n",
    "        print(\"Amal is lowest scorer : \",x1,\"marks\")\n",
    "elif x2<x1 and x2<x3:\n",
    "        print(\"Aswathy is lowest scorer : \",x2,\"marks\")\n",
    "elif x3<x1 and x3<x2:\n",
    "        print(\"Ranvir is lowest scorer : \",x3,\"marks\") \n",
    "else:\n",
    "    pass"
   ]
  }
 ],
 "metadata": {
  "kernelspec": {
   "display_name": "Python 3 (ipykernel)",
   "language": "python",
   "name": "python3"
  },
  "language_info": {
   "codemirror_mode": {
    "name": "ipython",
    "version": 3
   },
   "file_extension": ".py",
   "mimetype": "text/x-python",
   "name": "python",
   "nbconvert_exporter": "python",
   "pygments_lexer": "ipython3",
   "version": "3.9.13"
  }
 },
 "nbformat": 4,
 "nbformat_minor": 5
}
