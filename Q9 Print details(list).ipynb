{
 "cells": [
  {
   "cell_type": "code",
   "execution_count": 2,
   "id": "f3e79cdb",
   "metadata": {},
   "outputs": [
    {
     "name": "stdout",
     "output_type": "stream",
     "text": [
      "['OS', 90, True]\n"
     ]
    }
   ],
   "source": [
    "# Q4 Create a list containing the following 3 elements:\n",
    "# Subject person had taken\n",
    "# Marks Achieved\n",
    "# a boolean value showing previous programming experience\n",
    "# and Complete the following 'print' and 'if' statements by accessing the appropriate elements from my_list.\n",
    "\n",
    "my_list=[\"OS\",90,True]\n",
    "if my_list[2]==True:\n",
    "    print(my_list)"
   ]
  }
 ],
 "metadata": {
  "kernelspec": {
   "display_name": "Python 3 (ipykernel)",
   "language": "python",
   "name": "python3"
  },
  "language_info": {
   "codemirror_mode": {
    "name": "ipython",
    "version": 3
   },
   "file_extension": ".py",
   "mimetype": "text/x-python",
   "name": "python",
   "nbconvert_exporter": "python",
   "pygments_lexer": "ipython3",
   "version": "3.9.13"
  }
 },
 "nbformat": 4,
 "nbformat_minor": 5
}
