{
 "cells": [
  {
   "cell_type": "code",
   "execution_count": 3,
   "id": "891c1e7f",
   "metadata": {},
   "outputs": [],
   "source": [
    "# Q1 Write a Python function that prints out the first n rows of Pascal's triangle.\n",
    "# Input : 5\n",
    "\n",
    "#      1\n",
    "#     1 1\n",
    "#    1 2 1\n",
    "#   1 3 3 1\n",
    "#  1 4 6 4 1\n",
    "\n",
    "def pascals_triangle(n):\n",
    "     for i in range(0,n):  \n",
    "            print(' '*(n-i),end=' ')  \n",
    "            print(' '.join(map(str,str(11**i))))  "
   ]
  },
  {
   "cell_type": "code",
   "execution_count": 4,
   "id": "828f5ce4",
   "metadata": {},
   "outputs": [
    {
     "name": "stdout",
     "output_type": "stream",
     "text": [
      "      1\n",
      "     1 1\n",
      "    1 2 1\n",
      "   1 3 3 1\n",
      "  1 4 6 4 1\n"
     ]
    }
   ],
   "source": [
    "pascals_triangle(5)"
   ]
  },
  {
   "cell_type": "code",
   "execution_count": 5,
   "id": "cd2a690a",
   "metadata": {},
   "outputs": [],
   "source": [
    "def pascal(a):                  # defining function\n",
    "    \n",
    "    for i in range(a):           # for loop\n",
    "        n = 11**i                # as nth row in pascal triangle is (n-1)th power of 11\n",
    "        \n",
    "        l = ' '.join(str(n))               # converting n to string with' ' space between each digit\n",
    "        \n",
    "        s=' '*(a-i)               # variable containing no of starting spaces in each row\n",
    "      \n",
    "        print(s,l)                # printing numbers with spaces before"
   ]
  },
  {
   "cell_type": "code",
   "execution_count": 6,
   "id": "01afa56d",
   "metadata": {},
   "outputs": [
    {
     "name": "stdout",
     "output_type": "stream",
     "text": [
      "      1\n",
      "     1 1\n",
      "    1 2 1\n",
      "   1 3 3 1\n",
      "  1 4 6 4 1\n"
     ]
    }
   ],
   "source": [
    "pascal(5)"
   ]
  },
  {
   "cell_type": "code",
   "execution_count": 3,
   "id": "349fb8b4",
   "metadata": {},
   "outputs": [],
   "source": [
    "def pascals_triangle(n):\n",
    "    for i in range(n+1):\n",
    "        for j in range(n-i):\n",
    "            print(\" \",end=\" \")\n",
    "        a=1\n",
    "        for j in range(1,i+1):\n",
    "            print(a,\" \",sep=\" \",end=\" \")\n",
    "            a=a*(i-j)//j\n",
    "        print()       "
   ]
  },
  {
   "cell_type": "code",
   "execution_count": 4,
   "id": "c656d3ec",
   "metadata": {},
   "outputs": [
    {
     "name": "stdout",
     "output_type": "stream",
     "text": [
      "                \n",
      "              1   \n",
      "            1   1   \n",
      "          1   2   1   \n",
      "        1   3   3   1   \n",
      "      1   4   6   4   1   \n",
      "    1   5   10   10   5   1   \n",
      "  1   6   15   20   15   6   1   \n",
      "1   7   21   35   35   21   7   1   \n"
     ]
    }
   ],
   "source": [
    "pascals_triangle(8)"
   ]
  }
 ],
 "metadata": {
  "kernelspec": {
   "display_name": "Python 3 (ipykernel)",
   "language": "python",
   "name": "python3"
  },
  "language_info": {
   "codemirror_mode": {
    "name": "ipython",
    "version": 3
   },
   "file_extension": ".py",
   "mimetype": "text/x-python",
   "name": "python",
   "nbconvert_exporter": "python",
   "pygments_lexer": "ipython3",
   "version": "3.9.13"
  }
 },
 "nbformat": 4,
 "nbformat_minor": 5
}
