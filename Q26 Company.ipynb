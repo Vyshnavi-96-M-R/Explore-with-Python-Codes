{
 "cells": [
  {
   "cell_type": "code",
   "execution_count": 1,
   "id": "57279850",
   "metadata": {},
   "outputs": [],
   "source": [
    "\n",
    "# Q1.Write a Program to create a class 'Company' and using the class instance and print all the writable attributes of that object such as age, gender, salary, profession and designation. We take atleast 5 employees of an organization\n",
    "\n",
    "\n",
    "class Company:\n",
    "    age=None\n",
    "    gender=None\n",
    "    salary=None\n",
    "    profession=None\n",
    "    designation=None\n",
    "    \n",
    "    \n",
    "    def set_details(self,age,gender,salary,profession,designation):\n",
    "        self.age=age\n",
    "        self.gen=gender\n",
    "        self.sal=salary\n",
    "        self.prof=profession\n",
    "        self.des=designation\n",
    "        \n",
    "        \n",
    "    def print_details(self):\n",
    "        print(\"Age : \",self.age)\n",
    "        print(\"Gender : \",self.gen)\n",
    "        print(\"Salary : \",self.sal)\n",
    "        print(\"Profession : \",self.prof)\n",
    "        print(\"Designation : \",self.des)\n",
    "        "
   ]
  },
  {
   "cell_type": "code",
   "execution_count": 2,
   "id": "203a1885",
   "metadata": {},
   "outputs": [],
   "source": [
    "c1=Company()"
   ]
  },
  {
   "cell_type": "code",
   "execution_count": 7,
   "id": "47ed1bd7",
   "metadata": {},
   "outputs": [],
   "source": [
    "c1.set_details(26,'F',45000,'Teaching','Assistant Professor')"
   ]
  },
  {
   "cell_type": "code",
   "execution_count": 8,
   "id": "ba3b1d5a",
   "metadata": {},
   "outputs": [
    {
     "name": "stdout",
     "output_type": "stream",
     "text": [
      "Age :  26\n",
      "Gender :  F\n",
      "Salary :  45000\n",
      "Profession :  Teaching\n",
      "Designation :  Assistant Professor\n"
     ]
    }
   ],
   "source": [
    "c1.print_details()"
   ]
  },
  {
   "cell_type": "code",
   "execution_count": 9,
   "id": "e140b862",
   "metadata": {},
   "outputs": [],
   "source": [
    "c1.set_details(29,'M',45500,'IT','Project Admin')"
   ]
  },
  {
   "cell_type": "code",
   "execution_count": 10,
   "id": "dc177bad",
   "metadata": {},
   "outputs": [
    {
     "name": "stdout",
     "output_type": "stream",
     "text": [
      "Age :  29\n",
      "Gender :  M\n",
      "Salary :  45500\n",
      "Profession :  IT\n",
      "Designation :  Project Admin\n"
     ]
    }
   ],
   "source": [
    "c1.print_details()"
   ]
  },
  {
   "cell_type": "code",
   "execution_count": 11,
   "id": "301bb47d",
   "metadata": {},
   "outputs": [],
   "source": [
    "c1.set_details(23,'F',30000,'IT','Software Developer')"
   ]
  },
  {
   "cell_type": "code",
   "execution_count": 12,
   "id": "2854a903",
   "metadata": {},
   "outputs": [
    {
     "name": "stdout",
     "output_type": "stream",
     "text": [
      "Age :  23\n",
      "Gender :  F\n",
      "Salary :  30000\n",
      "Profession :  IT\n",
      "Designation :  Software Developer\n"
     ]
    }
   ],
   "source": [
    "c1.print_details()"
   ]
  },
  {
   "cell_type": "code",
   "execution_count": 14,
   "id": "38045a77",
   "metadata": {},
   "outputs": [],
   "source": [
    "c1.set_details(25,'M',25000,'IT','PHP Developer')"
   ]
  },
  {
   "cell_type": "code",
   "execution_count": 15,
   "id": "f05a57ed",
   "metadata": {},
   "outputs": [
    {
     "name": "stdout",
     "output_type": "stream",
     "text": [
      "Age :  25\n",
      "Gender :  M\n",
      "Salary :  25000\n",
      "Profession :  IT\n",
      "Designation :  PHP Developer\n"
     ]
    }
   ],
   "source": [
    "c1.print_details()"
   ]
  },
  {
   "cell_type": "code",
   "execution_count": 16,
   "id": "56fe56fa",
   "metadata": {},
   "outputs": [],
   "source": [
    "c1.set_details(20,'F',18000,'Teaching','Lecture')"
   ]
  },
  {
   "cell_type": "code",
   "execution_count": 17,
   "id": "60ecbc7b",
   "metadata": {},
   "outputs": [
    {
     "name": "stdout",
     "output_type": "stream",
     "text": [
      "Age :  20\n",
      "Gender :  F\n",
      "Salary :  18000\n",
      "Profession :  Teaching\n",
      "Designation :  Lecture\n"
     ]
    }
   ],
   "source": [
    "c1.print_details()"
   ]
  },
  {
   "cell_type": "code",
   "execution_count": null,
   "id": "b3732eb6",
   "metadata": {},
   "outputs": [],
   "source": []
  }
 ],
 "metadata": {
  "kernelspec": {
   "display_name": "Python 3 (ipykernel)",
   "language": "python",
   "name": "python3"
  },
  "language_info": {
   "codemirror_mode": {
    "name": "ipython",
    "version": 3
   },
   "file_extension": ".py",
   "mimetype": "text/x-python",
   "name": "python",
   "nbconvert_exporter": "python",
   "pygments_lexer": "ipython3",
   "version": "3.9.13"
  }
 },
 "nbformat": 4,
 "nbformat_minor": 5
}
