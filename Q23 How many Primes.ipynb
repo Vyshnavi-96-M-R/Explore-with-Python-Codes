{
 "cells": [
  {
   "cell_type": "code",
   "execution_count": 2,
   "id": "1c38d55d",
   "metadata": {},
   "outputs": [],
   "source": [
    "# Q3 Write a function how_many_primes that returns the number of prime numbers that exist up to and including a given number\n",
    "# how_many_primes(100) --> 25\n",
    "\n",
    "# prime nos:2,3,5,7,11,13,17,19,23,29,31,37,41,43,47,53,59,61,67,71,73,79,83,89,97\n",
    "\n",
    "def how_many_primes(n):\n",
    "    count=0\n",
    "    for i in range(n):\n",
    "        if i>1:\n",
    "            for j in range(2,i):\n",
    "                 if (i % j) == 0:\n",
    "                    break\n",
    "            else:\n",
    "                count=count+1\n",
    "\n",
    "    return count"
   ]
  },
  {
   "cell_type": "code",
   "execution_count": 3,
   "id": "d41ff23f",
   "metadata": {},
   "outputs": [
    {
     "data": {
      "text/plain": [
       "168"
      ]
     },
     "execution_count": 3,
     "metadata": {},
     "output_type": "execute_result"
    }
   ],
   "source": [
    "how_many_primes(1000)"
   ]
  },
  {
   "cell_type": "code",
   "execution_count": 4,
   "id": "e9d87b79",
   "metadata": {},
   "outputs": [
    {
     "data": {
      "text/plain": [
       "25"
      ]
     },
     "execution_count": 4,
     "metadata": {},
     "output_type": "execute_result"
    }
   ],
   "source": [
    "how_many_primes(100)"
   ]
  },
  {
   "cell_type": "code",
   "execution_count": 5,
   "id": "c27db0e2",
   "metadata": {},
   "outputs": [
    {
     "data": {
      "text/plain": [
       "46"
      ]
     },
     "execution_count": 5,
     "metadata": {},
     "output_type": "execute_result"
    }
   ],
   "source": [
    "how_many_primes(210)"
   ]
  }
 ],
 "metadata": {
  "kernelspec": {
   "display_name": "Python 3 (ipykernel)",
   "language": "python",
   "name": "python3"
  },
  "language_info": {
   "codemirror_mode": {
    "name": "ipython",
    "version": 3
   },
   "file_extension": ".py",
   "mimetype": "text/x-python",
   "name": "python",
   "nbconvert_exporter": "python",
   "pygments_lexer": "ipython3",
   "version": "3.9.13"
  }
 },
 "nbformat": 4,
 "nbformat_minor": 5
}
