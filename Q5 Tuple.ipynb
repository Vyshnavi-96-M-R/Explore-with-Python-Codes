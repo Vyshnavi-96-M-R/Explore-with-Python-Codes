{
 "cells": [
  {
   "cell_type": "code",
   "execution_count": 6,
   "id": "80dee772",
   "metadata": {},
   "outputs": [
    {
     "name": "stdout",
     "output_type": "stream",
     "text": [
      "Enter the Names: Vyshu Unni Achu Amma Acha\n",
      "('Vyshu', 'Unni', 'Achu', 'Amma', 'Acha')\n"
     ]
    }
   ],
   "source": [
    "# Q5. Write a program to accept five names from the user and store it in a Tuple 'T1'\n",
    "T1=tuple(input(\"Enter the Names: \").split())\n",
    "print(T1)"
   ]
  }
 ],
 "metadata": {
  "kernelspec": {
   "display_name": "Python 3 (ipykernel)",
   "language": "python",
   "name": "python3"
  },
  "language_info": {
   "codemirror_mode": {
    "name": "ipython",
    "version": 3
   },
   "file_extension": ".py",
   "mimetype": "text/x-python",
   "name": "python",
   "nbconvert_exporter": "python",
   "pygments_lexer": "ipython3",
   "version": "3.9.13"
  }
 },
 "nbformat": 4,
 "nbformat_minor": 5
}
