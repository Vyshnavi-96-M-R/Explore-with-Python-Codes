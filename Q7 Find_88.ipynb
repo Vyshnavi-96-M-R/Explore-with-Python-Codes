{
 "cells": [
  {
   "cell_type": "code",
   "execution_count": 8,
   "id": "bf515346",
   "metadata": {},
   "outputs": [],
   "source": [
    "# Q2 Create a function lets_find_88 Given a list of ints, return True if the array contains a 8 next to a 8 somewhere.\n",
    "\n",
    "# lets_find_88([1, 8, 8]) → True\n",
    "# lets_find_88([1, 8, 1, 8]) → False\n",
    "# lets_find_88([8, 1, 8]) → False\n",
    "\n",
    "def lets_find_88(l):                  # Define the function\n",
    "        for i in range(0, len(l)-1):  # Define a vaiable 'i' from the range 0 to the lenght of the list minus 1\n",
    "            if l[i+1] == l[i] == 8:   # If the index of i+1 and i are equal to 8, function will return True\n",
    "                return ('True')\n",
    "        else:\n",
    "            return('False')           # if i+1 or i are not found equal in the list, False will be returned"
   ]
  },
  {
   "cell_type": "code",
   "execution_count": 9,
   "id": "08317b54",
   "metadata": {},
   "outputs": [
    {
     "data": {
      "text/plain": [
       "'True'"
      ]
     },
     "execution_count": 9,
     "metadata": {},
     "output_type": "execute_result"
    }
   ],
   "source": [
    "lets_find_88([1,8,8,8])"
   ]
  },
  {
   "cell_type": "code",
   "execution_count": 10,
   "id": "665ff5b4",
   "metadata": {},
   "outputs": [
    {
     "data": {
      "text/plain": [
       "'False'"
      ]
     },
     "execution_count": 10,
     "metadata": {},
     "output_type": "execute_result"
    }
   ],
   "source": [
    "lets_find_88([1,2,8])"
   ]
  }
 ],
 "metadata": {
  "kernelspec": {
   "display_name": "Python 3 (ipykernel)",
   "language": "python",
   "name": "python3"
  },
  "language_info": {
   "codemirror_mode": {
    "name": "ipython",
    "version": 3
   },
   "file_extension": ".py",
   "mimetype": "text/x-python",
   "name": "python",
   "nbconvert_exporter": "python",
   "pygments_lexer": "ipython3",
   "version": "3.9.13"
  }
 },
 "nbformat": 4,
 "nbformat_minor": 5
}
