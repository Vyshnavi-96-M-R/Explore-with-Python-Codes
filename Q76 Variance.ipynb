{
 "cells": [
  {
   "cell_type": "code",
   "execution_count": 7,
   "id": "2122cd69",
   "metadata": {},
   "outputs": [],
   "source": [
    "# Q5. Create a function that takes a list of numbers as input and returns the variance.\n",
    "\n",
    "\n",
    "import statistics\n",
    "def list_variance(n):\n",
    "        print(\"Original list : \",n)\n",
    "        m1=statistics.variance(n)\n",
    "        print(\"Variance of the list is : \",m1)"
   ]
  },
  {
   "cell_type": "code",
   "execution_count": 8,
   "id": "f604d8f3",
   "metadata": {},
   "outputs": [
    {
     "name": "stdout",
     "output_type": "stream",
     "text": [
      "Original list :  [6, 7, 3, 9, 10, 15]\n",
      "Variance of the list is :  16.666666666666668\n"
     ]
    }
   ],
   "source": [
    "list_variance([6, 7, 3, 9, 10, 15])"
   ]
  },
  {
   "cell_type": "code",
   "execution_count": 9,
   "id": "8785e70c",
   "metadata": {},
   "outputs": [
    {
     "name": "stdout",
     "output_type": "stream",
     "text": [
      "Original list :  [4, 5, 8, 9, 10]\n",
      "Variance of the list is :  6.7\n"
     ]
    }
   ],
   "source": [
    "list_variance([4, 5, 8, 9, 10])"
   ]
  },
  {
   "cell_type": "code",
   "execution_count": null,
   "id": "d51cfadd",
   "metadata": {},
   "outputs": [],
   "source": []
  }
 ],
 "metadata": {
  "kernelspec": {
   "display_name": "Python 3 (ipykernel)",
   "language": "python",
   "name": "python3"
  },
  "language_info": {
   "codemirror_mode": {
    "name": "ipython",
    "version": 3
   },
   "file_extension": ".py",
   "mimetype": "text/x-python",
   "name": "python",
   "nbconvert_exporter": "python",
   "pygments_lexer": "ipython3",
   "version": "3.9.13"
  }
 },
 "nbformat": 4,
 "nbformat_minor": 5
}
