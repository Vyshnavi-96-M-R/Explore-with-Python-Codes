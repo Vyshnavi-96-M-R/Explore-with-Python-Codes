{
 "cells": [
  {
   "cell_type": "code",
   "execution_count": 3,
   "id": "4c8066df",
   "metadata": {},
   "outputs": [
    {
     "name": "stdout",
     "output_type": "stream",
     "text": [
      "Enter a string : my name is vyshnavi\n",
      "Enter a character : v\n"
     ]
    },
    {
     "data": {
      "text/plain": [
       "['my name is ', 'yshna', 'i']"
      ]
     },
     "execution_count": 3,
     "metadata": {},
     "output_type": "execute_result"
    }
   ],
   "source": [
    "# Q9.Create a function that takes a string and a character as input and returns a list after splitting the string based on the given character. By Default split based on whitespace. (Create a function similar to the inbuilt split function without using it).\n",
    "\n",
    "\n",
    "def split_string(a,b):\n",
    "    s1=\"\"\n",
    "    l1=[]\n",
    "    for i in a:\n",
    "        if i!=b:\n",
    "            s1=s1+i\n",
    "        else:\n",
    "            l1=l1+[s1]\n",
    "            s1=\"\"\n",
    "    if s1!=\"\":\n",
    "        l1=l1+[s1]\n",
    "    return l1\n",
    "\n",
    "\n",
    "a=input(\"Enter a string : \")\n",
    "b=input(\"Enter a character : \")\n",
    "split_string(a,b)"
   ]
  },
  {
   "cell_type": "code",
   "execution_count": null,
   "id": "ca3644da",
   "metadata": {},
   "outputs": [],
   "source": []
  }
 ],
 "metadata": {
  "kernelspec": {
   "display_name": "Python 3 (ipykernel)",
   "language": "python",
   "name": "python3"
  },
  "language_info": {
   "codemirror_mode": {
    "name": "ipython",
    "version": 3
   },
   "file_extension": ".py",
   "mimetype": "text/x-python",
   "name": "python",
   "nbconvert_exporter": "python",
   "pygments_lexer": "ipython3",
   "version": "3.9.13"
  }
 },
 "nbformat": 4,
 "nbformat_minor": 5
}
