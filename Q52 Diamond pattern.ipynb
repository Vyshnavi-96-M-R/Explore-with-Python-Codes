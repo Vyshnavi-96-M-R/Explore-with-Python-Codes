{
 "cells": [
  {
   "cell_type": "code",
   "execution_count": 1,
   "id": "d8854da2",
   "metadata": {},
   "outputs": [
    {
     "name": "stdout",
     "output_type": "stream",
     "text": [
      "Enter number of row: 5\n",
      "    *\n",
      "   ***\n",
      "  *****\n",
      " *******\n",
      "*********\n",
      " *******\n",
      "  *****\n",
      "   ***\n",
      "    *\n"
     ]
    }
   ],
   "source": [
    "# Q12. Write a program (nested loops) to print the diamond pattern.\n",
    "\n",
    "\n",
    "n=int(input('Enter number of row: '))\n",
    "for i in range(1, n+1):\n",
    "    for j in range(1,n-i+1):\n",
    "        print(\" \", end=\"\")\n",
    "    for j in range(1, 2*i):\n",
    "        print(\"*\", end=\"\")\n",
    "    print()\n",
    "for i in range(n-1,0,-1):\n",
    "    for j in range(1,n-i+1):\n",
    "        print(\" \", end=\"\")\n",
    "    for j in range(1, 2*i):\n",
    "        print(\"*\", end=\"\")\n",
    "    print()"
   ]
  },
  {
   "cell_type": "code",
   "execution_count": 1,
   "id": "deae8303",
   "metadata": {},
   "outputs": [
    {
     "name": "stdout",
     "output_type": "stream",
     "text": [
      "Enter diamond's height: 5\n",
      "      *\n",
      "     ***\n",
      "    *****\n",
      "   *******\n",
      "  *********\n",
      "   *******\n",
      "    *****\n",
      "     ***\n",
      "      *\n"
     ]
    }
   ],
   "source": [
    "h=eval(input(\"Enter diamond's height: \"))\n",
    "for x in range(h):\n",
    "    print(\" \" * (h - x), \"*\" * (2*x + 1))\n",
    "for x in range(h - 2, -1, -1):\n",
    "    print(\" \" * (h - x), \"*\" * (2*x + 1))"
   ]
  },
  {
   "cell_type": "code",
   "execution_count": null,
   "id": "c67716c5",
   "metadata": {},
   "outputs": [],
   "source": []
  }
 ],
 "metadata": {
  "kernelspec": {
   "display_name": "Python 3 (ipykernel)",
   "language": "python",
   "name": "python3"
  },
  "language_info": {
   "codemirror_mode": {
    "name": "ipython",
    "version": 3
   },
   "file_extension": ".py",
   "mimetype": "text/x-python",
   "name": "python",
   "nbconvert_exporter": "python",
   "pygments_lexer": "ipython3",
   "version": "3.9.13"
  }
 },
 "nbformat": 4,
 "nbformat_minor": 5
}
