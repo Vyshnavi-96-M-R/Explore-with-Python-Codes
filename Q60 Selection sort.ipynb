{
 "cells": [
  {
   "cell_type": "code",
   "execution_count": 29,
   "id": "59e6300b",
   "metadata": {},
   "outputs": [
    {
     "name": "stdout",
     "output_type": "stream",
     "text": [
      "Enter the numbers: 29 72 98 13 87 66 52 51 36\n",
      "Sorted list :  [13, 29, 36, 51, 52, 66, 72, 87, 98]\n"
     ]
    }
   ],
   "source": [
    "# Q7. Write a program to sort a given list using selection sort algorithm. (study selection sort and implement)\n",
    "\n",
    "sort_list=list(map(int,input(\"Enter the numbers: \").split()))\n",
    "l1=len(sort_list)  \n",
    "for i in range(l1-1): \n",
    "    min1=i\n",
    "    for j in range(i+1,l1):\n",
    "        if sort_list[j]<sort_list[min1]:\n",
    "            min1=j\n",
    "    sort_list[i],sort_list[min1]=sort_list[min1],sort_list[i]\n",
    "print(\"Sorted list : \",sort_list)   "
   ]
  },
  {
   "cell_type": "code",
   "execution_count": null,
   "id": "1cb2137e",
   "metadata": {},
   "outputs": [],
   "source": []
  }
 ],
 "metadata": {
  "kernelspec": {
   "display_name": "Python 3 (ipykernel)",
   "language": "python",
   "name": "python3"
  },
  "language_info": {
   "codemirror_mode": {
    "name": "ipython",
    "version": 3
   },
   "file_extension": ".py",
   "mimetype": "text/x-python",
   "name": "python",
   "nbconvert_exporter": "python",
   "pygments_lexer": "ipython3",
   "version": "3.9.13"
  }
 },
 "nbformat": 4,
 "nbformat_minor": 5
}
