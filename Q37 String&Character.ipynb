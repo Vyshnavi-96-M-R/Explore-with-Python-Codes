{
 "cells": [
  {
   "cell_type": "code",
   "execution_count": 5,
   "id": "a3025189",
   "metadata": {},
   "outputs": [
    {
     "name": "stdout",
     "output_type": "stream",
     "text": [
      "Enter the String : My Name is Vyshnavi\n",
      "Enter a Character : %\n",
      "New String :  My%Name%is%Vyshnavi\n"
     ]
    }
   ],
   "source": [
    "# Q8.Take a string and a character as input. Print the result having the character between each word of the given string.\n",
    "\n",
    "\n",
    "inp_string=input(\"Enter the String : \")\n",
    "inp_char=input(\"Enter a Character : \")\n",
    "for a in inp_string:\n",
    "    if a.isspace()==True:\n",
    "         new_string=inp_char.join(inp_string.split())\n",
    "print(\"New String : \",new_string)\n"
   ]
  }
 ],
 "metadata": {
  "kernelspec": {
   "display_name": "Python 3 (ipykernel)",
   "language": "python",
   "name": "python3"
  },
  "language_info": {
   "codemirror_mode": {
    "name": "ipython",
    "version": 3
   },
   "file_extension": ".py",
   "mimetype": "text/x-python",
   "name": "python",
   "nbconvert_exporter": "python",
   "pygments_lexer": "ipython3",
   "version": "3.9.13"
  }
 },
 "nbformat": 4,
 "nbformat_minor": 5
}
