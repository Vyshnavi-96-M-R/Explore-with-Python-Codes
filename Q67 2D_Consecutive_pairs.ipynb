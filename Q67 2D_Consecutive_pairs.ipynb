{
 "cells": [
  {
   "cell_type": "code",
   "execution_count": 1,
   "id": "ddf259f2",
   "metadata": {},
   "outputs": [],
   "source": [
    "# Q13. Create a function which takes a 2-D list of shape m * n where m is number of elements in the original list and where each element is a list having n integers (A list of m lists having n numbers each). The function also a takes a number x as input and returns a list of all consecutive pairs having sum eaqqual to x.\n",
    "\n",
    "\n",
    "def consecutive_pairs(l1,s):\n",
    "    l2=[]\n",
    "    for i in l1:\n",
    "        for j in range(len(i)-1):\n",
    "            if i[j]+i[j+1]==s:\n",
    "                l2.append((i[j],i[j+1]))\n",
    "    return l2"
   ]
  },
  {
   "cell_type": "code",
   "execution_count": 2,
   "id": "7a5dffdd",
   "metadata": {},
   "outputs": [
    {
     "name": "stdout",
     "output_type": "stream",
     "text": [
      "Sum = 70\n"
     ]
    },
    {
     "data": {
      "text/plain": [
       "[(30, 40)]"
      ]
     },
     "execution_count": 2,
     "metadata": {},
     "output_type": "execute_result"
    }
   ],
   "source": [
    "l1=([[10,20,30],[30,40,50]])\n",
    "s=int(input(\"Sum = \"))\n",
    "consecutive_pairs(l1,s)"
   ]
  },
  {
   "cell_type": "code",
   "execution_count": 3,
   "id": "9421e934",
   "metadata": {},
   "outputs": [
    {
     "name": "stdout",
     "output_type": "stream",
     "text": [
      "Sum = 15\n"
     ]
    },
    {
     "data": {
      "text/plain": [
       "[]"
      ]
     },
     "execution_count": 3,
     "metadata": {},
     "output_type": "execute_result"
    }
   ],
   "source": [
    "l1=([[10,20,30],[30,40,50]])\n",
    "s=int(input(\"Sum = \"))\n",
    "consecutive_pairs(l1,s)"
   ]
  },
  {
   "cell_type": "code",
   "execution_count": null,
   "id": "74605ee7",
   "metadata": {},
   "outputs": [],
   "source": []
  }
 ],
 "metadata": {
  "kernelspec": {
   "display_name": "Python 3 (ipykernel)",
   "language": "python",
   "name": "python3"
  },
  "language_info": {
   "codemirror_mode": {
    "name": "ipython",
    "version": 3
   },
   "file_extension": ".py",
   "mimetype": "text/x-python",
   "name": "python",
   "nbconvert_exporter": "python",
   "pygments_lexer": "ipython3",
   "version": "3.9.13"
  }
 },
 "nbformat": 4,
 "nbformat_minor": 5
}
