{
 "cells": [
  {
   "cell_type": "code",
   "execution_count": 1,
   "id": "ca0e974e",
   "metadata": {},
   "outputs": [
    {
     "name": "stdout",
     "output_type": "stream",
     "text": [
      "Enter the marks : 54 74 85 65 89 41 23 58 47 100\n",
      "Marks :  [54, 74, 85, 65, 89, 41, 23, 58, 47, 100]\n",
      "The marks of Tom :  [74, 65, 41, 58, 100]\n",
      "Average mark of Tom is :  67.6\n",
      "The marks of Jhon :  [54, 85, 89, 23, 47]\n",
      "Average mark of Jhon is  59.6\n"
     ]
    }
   ],
   "source": [
    "# Q7.Take a list as input in a single line containing 10 numbers as marks out of 100. The even positions in the list are marks of Tom and the odd positions are the marks of Jon. Calculate the average marks of both.\n",
    "\n",
    "\n",
    "marks=list(map(int,input(\"Enter the marks : \").split()))[:10]  \n",
    "print(\"Marks : \" ,marks)                                       \n",
    "el=marks[1::2]                                                 \n",
    "print(\"The marks of Tom : \",el)                            \n",
    "avg1=sum(el)/5                                            \n",
    "print(\"Average mark of Tom is : \",avg1)                        \n",
    "ol=marks[::2]                                                  \n",
    "print(\"The marks of Jhon : \",ol)                          \n",
    "avg2=sum(ol)/5                                              \n",
    "print(\"Average mark of Jhon is \",avg2)                         "
   ]
  }
 ],
 "metadata": {
  "kernelspec": {
   "display_name": "Python 3 (ipykernel)",
   "language": "python",
   "name": "python3"
  },
  "language_info": {
   "codemirror_mode": {
    "name": "ipython",
    "version": 3
   },
   "file_extension": ".py",
   "mimetype": "text/x-python",
   "name": "python",
   "nbconvert_exporter": "python",
   "pygments_lexer": "ipython3",
   "version": "3.9.13"
  }
 },
 "nbformat": 4,
 "nbformat_minor": 5
}
