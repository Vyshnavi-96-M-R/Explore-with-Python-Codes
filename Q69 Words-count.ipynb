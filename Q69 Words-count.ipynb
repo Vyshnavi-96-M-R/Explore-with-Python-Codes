{
 "cells": [
  {
   "cell_type": "code",
   "execution_count": 15,
   "id": "81af87d6",
   "metadata": {},
   "outputs": [],
   "source": [
    "# Q15. Create a function which takes a txt filename as input and returns the number of words in that file.\n",
    "\n",
    "def count_words(fname):\n",
    "    count=0\n",
    "    with open('myinfo.txt','r') as file:\n",
    "        data=file.read()\n",
    "        lines=data.split()\n",
    "        count+=len(lines)\n",
    "    print(\"Number of words : \",count)"
   ]
  },
  {
   "cell_type": "code",
   "execution_count": 16,
   "id": "d5718048",
   "metadata": {},
   "outputs": [
    {
     "name": "stdout",
     "output_type": "stream",
     "text": [
      "Number of words :  31\n"
     ]
    }
   ],
   "source": [
    "count_words(\"myinfo.txt\")"
   ]
  },
  {
   "cell_type": "code",
   "execution_count": null,
   "id": "77a1c256",
   "metadata": {},
   "outputs": [],
   "source": []
  }
 ],
 "metadata": {
  "kernelspec": {
   "display_name": "Python 3 (ipykernel)",
   "language": "python",
   "name": "python3"
  },
  "language_info": {
   "codemirror_mode": {
    "name": "ipython",
    "version": 3
   },
   "file_extension": ".py",
   "mimetype": "text/x-python",
   "name": "python",
   "nbconvert_exporter": "python",
   "pygments_lexer": "ipython3",
   "version": "3.9.13"
  }
 },
 "nbformat": 4,
 "nbformat_minor": 5
}
