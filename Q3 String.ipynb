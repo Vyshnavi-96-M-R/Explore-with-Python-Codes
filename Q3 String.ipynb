{
 "cells": [
  {
   "cell_type": "code",
   "execution_count": 7,
   "id": "82ae985f",
   "metadata": {},
   "outputs": [
    {
     "name": "stdout",
     "output_type": "stream",
     "text": [
      "Enter a String : amal\n",
      "Even characters of above string is : ['a', 'a']\n"
     ]
    }
   ],
   "source": [
    "# Q3.Write a program to accept a string from the user and display characters that are present at an even index number.\n",
    "#For example, str = \"judgemental\" so you should display ‘j’, ‘d’, ‘e’, ‘e’, ‘t’, ‘l’.\n",
    "\n",
    "string=input(\"Enter a String : \")\n",
    "even=[]\n",
    "for i in range(len(string)):\n",
    "                 if i % 2 == 0:\n",
    "                              even.append(string[i])\n",
    "                              i=i+1\n",
    "print('Even characters of above string is : {}'.format(even))  #syntax: {}.format(value)"
   ]
  },
  {
   "cell_type": "code",
   "execution_count": 6,
   "id": "4ed9e45c",
   "metadata": {},
   "outputs": [
    {
     "name": "stdout",
     "output_type": "stream",
     "text": [
      "Enter a string : judgemental\n",
      "j,d,e,e,t,l\t"
     ]
    }
   ],
   "source": [
    "string=input(\"Enter a string : \")\n",
    "even=string[::2]\n",
    "#for i in range(1):\n",
    "print(\",\".join(even),end=\"\\t\")"
   ]
  },
  {
   "cell_type": "code",
   "execution_count": 15,
   "id": "6404183f",
   "metadata": {},
   "outputs": [
    {
     "name": "stdout",
     "output_type": "stream",
     "text": [
      "Enter a String : amal\n",
      "aa"
     ]
    }
   ],
   "source": [
    "str=input(\"Enter a String : \")\n",
    "for i in range(len(str)):\n",
    "    if i%2 == 0:\n",
    "        print(str[i],end='')"
   ]
  }
 ],
 "metadata": {
  "kernelspec": {
   "display_name": "Python 3 (ipykernel)",
   "language": "python",
   "name": "python3"
  },
  "language_info": {
   "codemirror_mode": {
    "name": "ipython",
    "version": 3
   },
   "file_extension": ".py",
   "mimetype": "text/x-python",
   "name": "python",
   "nbconvert_exporter": "python",
   "pygments_lexer": "ipython3",
   "version": "3.9.13"
  }
 },
 "nbformat": 4,
 "nbformat_minor": 5
}
