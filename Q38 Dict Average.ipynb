{
 "cells": [
  {
   "cell_type": "code",
   "execution_count": 4,
   "id": "a1bcc2dc",
   "metadata": {},
   "outputs": [
    {
     "name": "stdout",
     "output_type": "stream",
     "text": [
      "Average marks of Amal :  45.6\n",
      "Average marks of Aswathy :  50.0\n",
      "Average marks of Ranvir :  59.2\n"
     ]
    }
   ],
   "source": [
    "# Q9. Create a dictionary having three items. Key of each item is the name of a student, value associated with each key is a list of marks in five subjects. Given this dictionary print the average score of each student.\n",
    "\n",
    "\n",
    "marks={\"Amal\":[20,40,23,56,89],\"Aswathy\":[40,50,12,48,100],\"Ranvir\":[10,85,58,47,96]}\n",
    "x1=sum(marks.get(\"Amal\"))\n",
    "x2=sum(marks.get(\"Aswathy\"))\n",
    "x3=sum(marks.get(\"Ranvir\"))\n",
    "avg1=x1/5\n",
    "avg2=x2/5\n",
    "avg3=x3/5\n",
    "print(\"Average marks of Amal : \",avg1)\n",
    "print(\"Average marks of Aswathy : \",avg2)\n",
    "print(\"Average marks of Ranvir : \",avg3)"
   ]
  },
  {
   "cell_type": "code",
   "execution_count": null,
   "id": "586c3802",
   "metadata": {},
   "outputs": [],
   "source": []
  }
 ],
 "metadata": {
  "kernelspec": {
   "display_name": "Python 3 (ipykernel)",
   "language": "python",
   "name": "python3"
  },
  "language_info": {
   "codemirror_mode": {
    "name": "ipython",
    "version": 3
   },
   "file_extension": ".py",
   "mimetype": "text/x-python",
   "name": "python",
   "nbconvert_exporter": "python",
   "pygments_lexer": "ipython3",
   "version": "3.9.13"
  }
 },
 "nbformat": 4,
 "nbformat_minor": 5
}
