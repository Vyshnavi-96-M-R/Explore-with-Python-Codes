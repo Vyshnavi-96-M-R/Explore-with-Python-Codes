{
 "cells": [
  {
   "cell_type": "code",
   "execution_count": 3,
   "id": "dcfc1636",
   "metadata": {},
   "outputs": [
    {
     "name": "stdout",
     "output_type": "stream",
     "text": [
      "Enter the numbers : 1 2 3 4 5 6\n",
      "Your List is :  [1, 2, 3, 4, 5, 6]\n",
      "Average is :  3.5\n",
      "3.5 is odd\n"
     ]
    }
   ],
   "source": [
    "# Q1.Take a list of numbers as input. Print whether the average is even or odd.\n",
    "\n",
    "num=list(map(int,input(\"Enter the numbers : \").split()))\n",
    "print(\"Your List is : \",num)\n",
    "avg=sum(num)/len(num)\n",
    "print(\"Average is : \",avg)\n",
    "if avg%2==0:\n",
    "    print(avg,\"is even\")\n",
    "else:\n",
    "    print(avg,\"is odd\")"
   ]
  },
  {
   "cell_type": "code",
   "execution_count": null,
   "id": "8d81c810",
   "metadata": {},
   "outputs": [],
   "source": []
  }
 ],
 "metadata": {
  "kernelspec": {
   "display_name": "Python 3 (ipykernel)",
   "language": "python",
   "name": "python3"
  },
  "language_info": {
   "codemirror_mode": {
    "name": "ipython",
    "version": 3
   },
   "file_extension": ".py",
   "mimetype": "text/x-python",
   "name": "python",
   "nbconvert_exporter": "python",
   "pygments_lexer": "ipython3",
   "version": "3.9.13"
  }
 },
 "nbformat": 4,
 "nbformat_minor": 5
}
