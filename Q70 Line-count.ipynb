{
 "cells": [
  {
   "cell_type": "code",
   "execution_count": 10,
   "id": "dd3248ca",
   "metadata": {},
   "outputs": [],
   "source": [
    "# Q16. Create a function which takes a txt filename as input and returns the number of line in the file.\n",
    "\n",
    "\n",
    "def lines_count(fname):\n",
    "    count=0\n",
    "    with open('myinfo.txt','r') as f:\n",
    "        for i in f:\n",
    "            count+=1\n",
    "        print(\"Number of lines in text file : \",count)"
   ]
  },
  {
   "cell_type": "code",
   "execution_count": 11,
   "id": "262d214c",
   "metadata": {},
   "outputs": [
    {
     "name": "stdout",
     "output_type": "stream",
     "text": [
      "Number of lines in text file :  3\n"
     ]
    }
   ],
   "source": [
    "lines_count(\"myinfo.txt\")"
   ]
  },
  {
   "cell_type": "code",
   "execution_count": null,
   "id": "318e5b92",
   "metadata": {},
   "outputs": [],
   "source": []
  }
 ],
 "metadata": {
  "kernelspec": {
   "display_name": "Python 3 (ipykernel)",
   "language": "python",
   "name": "python3"
  },
  "language_info": {
   "codemirror_mode": {
    "name": "ipython",
    "version": 3
   },
   "file_extension": ".py",
   "mimetype": "text/x-python",
   "name": "python",
   "nbconvert_exporter": "python",
   "pygments_lexer": "ipython3",
   "version": "3.9.13"
  }
 },
 "nbformat": 4,
 "nbformat_minor": 5
}
