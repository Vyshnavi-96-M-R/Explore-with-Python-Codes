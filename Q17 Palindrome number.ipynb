{
 "cells": [
  {
   "cell_type": "code",
   "execution_count": 1,
   "id": "f90b0876",
   "metadata": {},
   "outputs": [
    {
     "name": "stdout",
     "output_type": "stream",
     "text": [
      "Enter a number : 121\n",
      "121  is a palindrome  number\n"
     ]
    }
   ],
   "source": [
    "# 4.Write a program to check if the give number is palindrome number.\n",
    "num=int(input(\"Enter a number : \"))\n",
    "temp=num\n",
    "rev=0\n",
    "while num!=0:\n",
    "    s=num%10 \n",
    "    rev=(rev*10)+s \n",
    "    num=num//10 \n",
    "if temp==rev: \n",
    "    print(temp,\" is a palindrome  number\")\n",
    "else: \n",
    "    print(temp,\"is not a palindrome number\")"
   ]
  }
 ],
 "metadata": {
  "kernelspec": {
   "display_name": "Python 3 (ipykernel)",
   "language": "python",
   "name": "python3"
  },
  "language_info": {
   "codemirror_mode": {
    "name": "ipython",
    "version": 3
   },
   "file_extension": ".py",
   "mimetype": "text/x-python",
   "name": "python",
   "nbconvert_exporter": "python",
   "pygments_lexer": "ipython3",
   "version": "3.9.13"
  }
 },
 "nbformat": 4,
 "nbformat_minor": 5
}
