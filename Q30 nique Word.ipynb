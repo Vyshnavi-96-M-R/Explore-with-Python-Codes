{
 "cells": [
  {
   "cell_type": "code",
   "execution_count": 11,
   "id": "f0a35c50",
   "metadata": {},
   "outputs": [
    {
     "name": "stdout",
     "output_type": "stream",
     "text": [
      "Enter the String : Welcome to colab\n",
      "Unique Words are :  ['Welcome', 'to', 'colab']\n"
     ]
    }
   ],
   "source": [
    "# Q10.Take a string as input(may contain repetitive words), print a list consisting of unique words from the given string.\n",
    "\n",
    "\n",
    "String=input(\"Enter the String : \").split()\n",
    "Unique_wo=list(set(String))\n",
    "print(\"Unique Words are : \",Unique)\n"
   ]
  }
 ],
 "metadata": {
  "kernelspec": {
   "display_name": "Python 3 (ipykernel)",
   "language": "python",
   "name": "python3"
  },
  "language_info": {
   "codemirror_mode": {
    "name": "ipython",
    "version": 3
   },
   "file_extension": ".py",
   "mimetype": "text/x-python",
   "name": "python",
   "nbconvert_exporter": "python",
   "pygments_lexer": "ipython3",
   "version": "3.9.13"
  }
 },
 "nbformat": 4,
 "nbformat_minor": 5
}
