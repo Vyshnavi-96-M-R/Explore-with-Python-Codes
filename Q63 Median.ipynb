{
 "cells": [
  {
   "cell_type": "code",
   "execution_count": 9,
   "id": "1a2e0627",
   "metadata": {},
   "outputs": [],
   "source": [
    "# Q1. Create a function that takes a list of numbers as input and returns the median\n",
    "\n",
    "\n",
    "import statistics\n",
    "def list_median(n):\n",
    "        print(\"The original list : \",n)\n",
    "        m1= statistics.median(n)\n",
    "        print(\"Median of list is : \",m1)"
   ]
  },
  {
   "cell_type": "code",
   "execution_count": 10,
   "id": "da67ad51",
   "metadata": {},
   "outputs": [
    {
     "name": "stdout",
     "output_type": "stream",
     "text": [
      "The original list :  [12, 13, 14, 15, 16]\n",
      "Median of list is :  14\n"
     ]
    }
   ],
   "source": [
    "l1=[12,13,14,15,16]\n",
    "list_median(l1)"
   ]
  },
  {
   "cell_type": "code",
   "execution_count": 4,
   "id": "e409ccc2",
   "metadata": {},
   "outputs": [
    {
     "name": "stdout",
     "output_type": "stream",
     "text": [
      "The original list : [4, 5, 8, 9, 10, 17]\n",
      "Median of list is : 8.5\n"
     ]
    }
   ],
   "source": [
    "list_median([4, 5, 8, 9, 10, 17])"
   ]
  },
  {
   "cell_type": "code",
   "execution_count": 11,
   "id": "235141b4",
   "metadata": {},
   "outputs": [
    {
     "name": "stdout",
     "output_type": "stream",
     "text": [
      "The original list :  [8, 5, 41, 9, 6, 32, 15]\n",
      "Median of list is :  9\n"
     ]
    }
   ],
   "source": [
    "list_median([8,5,41,9,6,32,15])"
   ]
  },
  {
   "cell_type": "code",
   "execution_count": 12,
   "id": "70b68b58",
   "metadata": {},
   "outputs": [
    {
     "name": "stdout",
     "output_type": "stream",
     "text": [
      "The original list :  [9, 12, 15, 6, 6, 7, 8, 8]\n",
      "Median of list is :  8.0\n"
     ]
    }
   ],
   "source": [
    "list_median([9,12,15,6,6,7,8,8])"
   ]
  },
  {
   "cell_type": "code",
   "execution_count": null,
   "id": "b593388f",
   "metadata": {},
   "outputs": [],
   "source": []
  }
 ],
 "metadata": {
  "kernelspec": {
   "display_name": "Python 3 (ipykernel)",
   "language": "python",
   "name": "python3"
  },
  "language_info": {
   "codemirror_mode": {
    "name": "ipython",
    "version": 3
   },
   "file_extension": ".py",
   "mimetype": "text/x-python",
   "name": "python",
   "nbconvert_exporter": "python",
   "pygments_lexer": "ipython3",
   "version": "3.9.13"
  }
 },
 "nbformat": 4,
 "nbformat_minor": 5
}
