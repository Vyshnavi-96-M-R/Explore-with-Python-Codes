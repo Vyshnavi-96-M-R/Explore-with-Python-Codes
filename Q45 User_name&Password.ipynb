{
 "cells": [
  {
   "cell_type": "code",
   "execution_count": 4,
   "id": "513affe5",
   "metadata": {},
   "outputs": [
    {
     "name": "stdout",
     "output_type": "stream",
     "text": [
      "Enter User_Name : Vyshnavi\n",
      "Enter Password : Vyshnavi@123\n",
      "Access granted\n"
     ]
    }
   ],
   "source": [
    "# Q6.Create a dictionary (called data) of having at least 5 items : Usernames as keys and Passwords as values. Write a program that takes a username and a password as input. If the credentials match any iteam in the given dictionary data then print acces granted otherwise print whether username, password or both are wrong.\n",
    "\n",
    "\n",
    "Data={\"Vyshnavi\":\"Vyshnavi@123\",\n",
    "      \"Amal\":\"amal#93\",\n",
    "      \"Aswathy\":\"asaw*99\",\n",
    "      \"StarAgile23\":\"starr***\",\n",
    "      \"AIandML\":\"al2320ml\"}\n",
    "user_name=input(\"Enter User_Name : \")\n",
    "password=input(\"Enter Password : \")\n",
    "if Data[user_name]==password:\n",
    "    print(\"Access granted\")\n",
    "else:\n",
    "    print(\"Your UserName or Password is incorrect\")"
   ]
  },
  {
   "cell_type": "code",
   "execution_count": 7,
   "id": "9a119e99",
   "metadata": {},
   "outputs": [
    {
     "name": "stdout",
     "output_type": "stream",
     "text": [
      "Enter User_Name : AIandML\n",
      "Enter Password : vyshnavi&*8\n",
      "Your UserName or Password is incorrect\n"
     ]
    }
   ],
   "source": [
    "Data={\"Vyshnavi\":\"Vyshnavi@123\",\n",
    "      \"Amal\":\"amal#93\",\n",
    "      \"Aswathy\":\"asaw*99\",\n",
    "      \"StarAgile23\":\"starr***\",\n",
    "      \"AIandML\":\"al2320ml\"}\n",
    "user_name=input(\"Enter User_Name : \")\n",
    "password=input(\"Enter Password : \")\n",
    "if Data[user_name]==password:\n",
    "    print(\"Access granted\")\n",
    "else:\n",
    "    print(\"Your UserName or Password is incorrect\")"
   ]
  }
 ],
 "metadata": {
  "kernelspec": {
   "display_name": "Python 3 (ipykernel)",
   "language": "python",
   "name": "python3"
  },
  "language_info": {
   "codemirror_mode": {
    "name": "ipython",
    "version": 3
   },
   "file_extension": ".py",
   "mimetype": "text/x-python",
   "name": "python",
   "nbconvert_exporter": "python",
   "pygments_lexer": "ipython3",
   "version": "3.9.13"
  }
 },
 "nbformat": 4,
 "nbformat_minor": 5
}
