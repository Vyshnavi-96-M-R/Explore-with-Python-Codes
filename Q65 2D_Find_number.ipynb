{
 "cells": [
  {
   "cell_type": "code",
   "execution_count": 1,
   "id": "b5467e83",
   "metadata": {},
   "outputs": [
    {
     "name": "stdout",
     "output_type": "stream",
     "text": [
      "Enter the number to search : 20\n"
     ]
    },
    {
     "data": {
      "text/plain": [
       "True"
      ]
     },
     "execution_count": 1,
     "metadata": {},
     "output_type": "execute_result"
    }
   ],
   "source": [
    "# Q11.Create a function which takes a 2-D list of shape m * n where m is number of elements in the original list and where each element is a list having n integers (A list of m lists having n numbers each). The function returns the sum of all rows in the matrix (2 D list).\n",
    "\n",
    "\n",
    "\n",
    "\n",
    "def Find_number(x):\n",
    "        Matrix=([[10,20,30],[30,40,50]])\n",
    "        for i in Matrix:\n",
    "            if x in i:\n",
    "                return True\n",
    "            else:\n",
    "                return False\n",
    "        \n",
    "        \n",
    "x=int(input(\"Enter the number to search : \"))\n",
    "Find_number(x)"
   ]
  },
  {
   "cell_type": "code",
   "execution_count": null,
   "id": "8f795c18",
   "metadata": {},
   "outputs": [],
   "source": []
  }
 ],
 "metadata": {
  "kernelspec": {
   "display_name": "Python 3 (ipykernel)",
   "language": "python",
   "name": "python3"
  },
  "language_info": {
   "codemirror_mode": {
    "name": "ipython",
    "version": 3
   },
   "file_extension": ".py",
   "mimetype": "text/x-python",
   "name": "python",
   "nbconvert_exporter": "python",
   "pygments_lexer": "ipython3",
   "version": "3.9.13"
  }
 },
 "nbformat": 4,
 "nbformat_minor": 5
}
