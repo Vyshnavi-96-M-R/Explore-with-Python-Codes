{
 "cells": [
  {
   "cell_type": "code",
   "execution_count": 6,
   "id": "27c0a72c",
   "metadata": {},
   "outputs": [
    {
     "name": "stdout",
     "output_type": "stream",
     "text": [
      "Enter the 15 sub marks : 45 89 63 14 78 52 45 42 63 98 100 89 65 72 74 35\n",
      "Marks of Tom :  [45, 89, 63, 14, 78]\n",
      "Total Marks :  289\n",
      "Marks of Bob :  [52, 45, 42, 63, 98]\n",
      "Total Marks :  300\n",
      "Marks of Jhon:  [100, 89, 65, 72, 74]\n",
      "Total Marks :  400\n",
      "Jhon is top scorer :  400 marks\n",
      "Tom is lowest scorer :  289 marks\n"
     ]
    }
   ],
   "source": [
    "#Q7.Take a list as input in a single line containing 15 numbers as marks out of 100. The first five numbers in the list are marks of Tom, the middle 5 numbers are marks of Bob and the last 5 are the marks of Jon. Find out the top and lowest scorer.\n",
    "\n",
    "\n",
    "Marks=list(map(int,input(\"Enter the 15 sub marks : \").split()))[:15]\n",
    "\n",
    "tom=Marks[:5]\n",
    "print(\"Marks of Tom : \",tom)\n",
    "s1=sum(tom)\n",
    "print(\"Total Marks : \",s1)\n",
    "\n",
    "bob=Marks[5:10]\n",
    "print(\"Marks of Bob : \",bob)\n",
    "s2=sum(bob)\n",
    "print(\"Total Marks : \",s2)\n",
    "\n",
    "jhon=Marks[10:15]\n",
    "print(\"Marks of Jhon: \",jhon)\n",
    "s3=sum(jhon)\n",
    "print(\"Total Marks : \",s3)\n",
    "\n",
    "if s1==s2 or s2==s3 or s1==s3:\n",
    "        print(\"3 students have same score\")\n",
    "elif s1>s2 and s1>s3:\n",
    "        print(\"Tom is top scorer : \",s1,\"marks\")\n",
    "elif s2>s1 and s2>s3:\n",
    "        print(\"Bob is top scorer : \",s2,\"marks\")\n",
    "elif s3>s1 and s3>s2:\n",
    "        print(\"Jhon is top scorer : \",s3,\"marks\") \n",
    "if s1<s2 and s1<s3:\n",
    "        print(\"Tom is lowest scorer : \",s1,\"marks\")\n",
    "elif s2<s1 and s2<s3:\n",
    "        print(\"Bob is lowest scorer : \",s2,\"marks\")\n",
    "elif s3<s1 and s3<s2:\n",
    "        print(\"Jhon is lowest scorer : \",s3,\"marks\") \n",
    "else:\n",
    "    pass"
   ]
  }
 ],
 "metadata": {
  "kernelspec": {
   "display_name": "Python 3 (ipykernel)",
   "language": "python",
   "name": "python3"
  },
  "language_info": {
   "codemirror_mode": {
    "name": "ipython",
    "version": 3
   },
   "file_extension": ".py",
   "mimetype": "text/x-python",
   "name": "python",
   "nbconvert_exporter": "python",
   "pygments_lexer": "ipython3",
   "version": "3.9.13"
  }
 },
 "nbformat": 4,
 "nbformat_minor": 5
}
