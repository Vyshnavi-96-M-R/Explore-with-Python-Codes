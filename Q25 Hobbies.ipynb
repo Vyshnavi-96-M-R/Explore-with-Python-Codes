{
 "cells": [
  {
   "cell_type": "code",
   "execution_count": 1,
   "id": "ae102624",
   "metadata": {},
   "outputs": [
    {
     "name": "stdout",
     "output_type": "stream",
     "text": [
      "Enter your hobbies in preference h1 : Sleeping\n",
      " h2 : Dancing\n",
      " h3 : Cooking\n",
      " h4 : Playing\n",
      " h5 : Reading\n"
     ]
    }
   ],
   "source": [
    "# Q5 Accept five hobbies from the user and write in a file 'hobby.txt'. Then Read the file to list out all the 5 hobbies from the user.\n",
    "\n",
    "file=open(\"hobby.txt\",\"w\")\n",
    "file.write(\"Your Hobbies : \")\n",
    "\n",
    "h1=input(\"Enter your hobbies in preference h1 : \")\n",
    "file.write(h1)\n",
    "file.write(\"\\n\")\n",
    "\n",
    "h2=input(\" h2 : \")\n",
    "file.write(h2)\n",
    "file.write(\"\\n\")\n",
    "\n",
    "h3=input(\" h3 : \")\n",
    "file.write(h3)\n",
    "file.write(\"\\n\")\n",
    "\n",
    "h4=input(\" h4 : \")\n",
    "file.write(h4)\n",
    "file.write(\"\\n\")\n",
    "\n",
    "h5=input(\" h5 : \")\n",
    "file.write(h5)\n",
    "\n",
    "file.close()  "
   ]
  },
  {
   "cell_type": "code",
   "execution_count": 2,
   "id": "2f9654a7",
   "metadata": {},
   "outputs": [
    {
     "name": "stdout",
     "output_type": "stream",
     "text": [
      "Your Hobbies : Sleeping\n",
      "Dancing\n",
      "Cooking\n",
      "Playing\n",
      "Reading\n"
     ]
    }
   ],
   "source": [
    "f1=open(\"hobby.txt\",'r')\n",
    "data=f1.read()\n",
    "print(data)"
   ]
  },
  {
   "cell_type": "code",
   "execution_count": null,
   "id": "17659a1e",
   "metadata": {},
   "outputs": [],
   "source": []
  }
 ],
 "metadata": {
  "kernelspec": {
   "display_name": "Python 3 (ipykernel)",
   "language": "python",
   "name": "python3"
  },
  "language_info": {
   "codemirror_mode": {
    "name": "ipython",
    "version": 3
   },
   "file_extension": ".py",
   "mimetype": "text/x-python",
   "name": "python",
   "nbconvert_exporter": "python",
   "pygments_lexer": "ipython3",
   "version": "3.9.13"
  }
 },
 "nbformat": 4,
 "nbformat_minor": 5
}
