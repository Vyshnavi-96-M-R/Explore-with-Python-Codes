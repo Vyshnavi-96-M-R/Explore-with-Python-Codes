{
 "cells": [
  {
   "cell_type": "code",
   "execution_count": 15,
   "id": "7ea8960f",
   "metadata": {},
   "outputs": [
    {
     "name": "stdout",
     "output_type": "stream",
     "text": [
      "Enter the string : Hi Hello Hello Hi Hi\n",
      "Enter the word : Hi\n",
      "No of occurences of Hi is : 3 times\n"
     ]
    }
   ],
   "source": [
    "# Q9 Take a string and a word as input. Find the frequenecy of occurrence of the word in the given string.(Without using any inbuilt function)\n",
    "\n",
    "\n",
    "str1=input(\"Enter the string : \").split()\n",
    "word1=input(\"Enter the word : \")\n",
    "count=0\n",
    "for i in str1:\n",
    "    if i==word1:\n",
    "        count=count+1\n",
    "print(\"No of occurences of\",word1,\"is :\",count,\"times\")"
   ]
  }
 ],
 "metadata": {
  "kernelspec": {
   "display_name": "Python 3 (ipykernel)",
   "language": "python",
   "name": "python3"
  },
  "language_info": {
   "codemirror_mode": {
    "name": "ipython",
    "version": 3
   },
   "file_extension": ".py",
   "mimetype": "text/x-python",
   "name": "python",
   "nbconvert_exporter": "python",
   "pygments_lexer": "ipython3",
   "version": "3.9.13"
  }
 },
 "nbformat": 4,
 "nbformat_minor": 5
}
