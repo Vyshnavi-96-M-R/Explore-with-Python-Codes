{
 "cells": [
  {
   "cell_type": "code",
   "execution_count": 12,
   "id": "519cfc2d",
   "metadata": {},
   "outputs": [],
   "source": [
    "# Q2. Create a function that takes a list of numbers as input and returns the mean.\n",
    "\n",
    "\n",
    "import statistics\n",
    "def list_mean(n):\n",
    "        print(\"Original list : \",n)\n",
    "        m1=statistics.mean(n)\n",
    "        print(\"Mean of the list is : \",m1)"
   ]
  },
  {
   "cell_type": "code",
   "execution_count": 13,
   "id": "dc536592",
   "metadata": {},
   "outputs": [
    {
     "name": "stdout",
     "output_type": "stream",
     "text": [
      "Original list :  [4, 5, 8, 9, 10, 17]\n",
      "Mean of the list is :  8.833333333333334\n"
     ]
    }
   ],
   "source": [
    "list_mean([4, 5, 8, 9, 10, 17])"
   ]
  },
  {
   "cell_type": "code",
   "execution_count": 14,
   "id": "82330003",
   "metadata": {},
   "outputs": [
    {
     "name": "stdout",
     "output_type": "stream",
     "text": [
      "Original list :  [12, 13, 14, 15, 16]\n",
      "Mean of the list is :  14\n"
     ]
    }
   ],
   "source": [
    "l1=[12,13,14,15,16]\n",
    "list_mean(l1)"
   ]
  },
  {
   "cell_type": "code",
   "execution_count": null,
   "id": "70a9921a",
   "metadata": {},
   "outputs": [],
   "source": []
  }
 ],
 "metadata": {
  "kernelspec": {
   "display_name": "Python 3 (ipykernel)",
   "language": "python",
   "name": "python3"
  },
  "language_info": {
   "codemirror_mode": {
    "name": "ipython",
    "version": 3
   },
   "file_extension": ".py",
   "mimetype": "text/x-python",
   "name": "python",
   "nbconvert_exporter": "python",
   "pygments_lexer": "ipython3",
   "version": "3.9.13"
  }
 },
 "nbformat": 4,
 "nbformat_minor": 5
}
