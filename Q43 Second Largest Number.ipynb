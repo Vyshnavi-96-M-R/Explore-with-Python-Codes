{
 "cells": [
  {
   "cell_type": "code",
   "execution_count": 3,
   "id": "119a92e3",
   "metadata": {},
   "outputs": [
    {
     "name": "stdout",
     "output_type": "stream",
     "text": [
      "Enter the numbers : 12 25 25 17\n",
      "Second Largest number : 17\n"
     ]
    }
   ],
   "source": [
    "# Q4. Take four numbers as input and find the second largest number.\n",
    "\n",
    "num_list=list(map(int,input(\"Enter the numbers : \").split()))[:4]\n",
    "new_list=[*set(num_list)]\n",
    "new_list.remove(max(new_list))\n",
    "print(\"Second Largest number :\",max(new_list))"
   ]
  }
 ],
 "metadata": {
  "kernelspec": {
   "display_name": "Python 3 (ipykernel)",
   "language": "python",
   "name": "python3"
  },
  "language_info": {
   "codemirror_mode": {
    "name": "ipython",
    "version": 3
   },
   "file_extension": ".py",
   "mimetype": "text/x-python",
   "name": "python",
   "nbconvert_exporter": "python",
   "pygments_lexer": "ipython3",
   "version": "3.9.13"
  }
 },
 "nbformat": 4,
 "nbformat_minor": 5
}
