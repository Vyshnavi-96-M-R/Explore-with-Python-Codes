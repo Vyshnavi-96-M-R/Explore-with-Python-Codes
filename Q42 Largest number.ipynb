{
 "cells": [
  {
   "cell_type": "code",
   "execution_count": 3,
   "id": "8fbe170d",
   "metadata": {},
   "outputs": [
    {
     "name": "stdout",
     "output_type": "stream",
     "text": [
      "Enter the numbers : 89 52 67 14\n",
      "The largest number is :  89\n"
     ]
    }
   ],
   "source": [
    "# Q3. Take four numbers as input in a single line. Find out the largest number.\n",
    "\n",
    "num=tuple(map(int,input(\"Enter the numbers : \").split()))[:4]\n",
    "print(\"The largest number is : \",max(num))"
   ]
  },
  {
   "cell_type": "code",
   "execution_count": null,
   "id": "37c8e55e",
   "metadata": {},
   "outputs": [],
   "source": []
  }
 ],
 "metadata": {
  "kernelspec": {
   "display_name": "Python 3 (ipykernel)",
   "language": "python",
   "name": "python3"
  },
  "language_info": {
   "codemirror_mode": {
    "name": "ipython",
    "version": 3
   },
   "file_extension": ".py",
   "mimetype": "text/x-python",
   "name": "python",
   "nbconvert_exporter": "python",
   "pygments_lexer": "ipython3",
   "version": "3.9.13"
  }
 },
 "nbformat": 4,
 "nbformat_minor": 5
}
