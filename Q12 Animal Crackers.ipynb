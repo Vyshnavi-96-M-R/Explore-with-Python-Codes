{
 "cells": [
  {
   "cell_type": "code",
   "execution_count": 27,
   "id": "d9fbfce4",
   "metadata": {},
   "outputs": [
    {
     "data": {
      "text/plain": [
       "['L', 'L']"
      ]
     },
     "execution_count": 27,
     "metadata": {},
     "output_type": "execute_result"
    }
   ],
   "source": [
    "# Q2 ANIMAL CRACKERS: Write a function takes a two-word string and returns True if both words begin with same letter and returns False if both words begin with different letter\n",
    "\n",
    "# animal_crackers('Levelheaded Lion') --> True\n",
    "# animal_crackers('Cute Kangaroo') --> False\n",
    "\n",
    "# separating each word in a string\n",
    "s=\"Levelheaded Lion\"\n",
    "[w[0] for w in s.split()]"
   ]
  },
  {
   "cell_type": "code",
   "execution_count": 45,
   "id": "1e1d54ff",
   "metadata": {},
   "outputs": [],
   "source": [
    "# Method 1\n",
    "\n",
    "def animal_crackers(s):\n",
    "    w1,w2=s.split(' ')\n",
    "    print(w1[0].upper()==w2[0].upper())"
   ]
  },
  {
   "cell_type": "code",
   "execution_count": 46,
   "id": "93ba95bf",
   "metadata": {},
   "outputs": [
    {
     "name": "stdout",
     "output_type": "stream",
     "text": [
      "False\n"
     ]
    }
   ],
   "source": [
    "animal_crackers(\"Cute Kangaroo\")"
   ]
  },
  {
   "cell_type": "code",
   "execution_count": 47,
   "id": "305cfb0b",
   "metadata": {},
   "outputs": [
    {
     "name": "stdout",
     "output_type": "stream",
     "text": [
      "True\n"
     ]
    }
   ],
   "source": [
    "animal_crackers(\"Levelheaded Lion\")"
   ]
  },
  {
   "cell_type": "code",
   "execution_count": 49,
   "id": "94cecde9",
   "metadata": {},
   "outputs": [
    {
     "name": "stdout",
     "output_type": "stream",
     "text": [
      "True\n"
     ]
    }
   ],
   "source": [
    "animal_crackers(\"vyshnavi verygood\")"
   ]
  },
  {
   "cell_type": "code",
   "execution_count": 50,
   "id": "a33f4614",
   "metadata": {},
   "outputs": [
    {
     "name": "stdout",
     "output_type": "stream",
     "text": [
      "False\n"
     ]
    }
   ],
   "source": [
    "animal_crackers(\"vyshnavi good\")"
   ]
  },
  {
   "cell_type": "code",
   "execution_count": 58,
   "id": "6d9a5848",
   "metadata": {},
   "outputs": [],
   "source": [
    "# Method 2\n",
    "\n",
    "def animal_crackers(s):\n",
    "    w1,w2=s.split(' ')\n",
    "    if w1[0]==w2[0]:\n",
    "        return(\"True\")\n",
    "    else:\n",
    "        return(\"False\")"
   ]
  },
  {
   "cell_type": "code",
   "execution_count": 59,
   "id": "767be830",
   "metadata": {},
   "outputs": [
    {
     "data": {
      "text/plain": [
       "'False'"
      ]
     },
     "execution_count": 59,
     "metadata": {},
     "output_type": "execute_result"
    }
   ],
   "source": [
    "animal_crackers(\"Cute Kangaroo\")"
   ]
  },
  {
   "cell_type": "code",
   "execution_count": 60,
   "id": "c42fae46",
   "metadata": {},
   "outputs": [
    {
     "data": {
      "text/plain": [
       "'True'"
      ]
     },
     "execution_count": 60,
     "metadata": {},
     "output_type": "execute_result"
    }
   ],
   "source": [
    "animal_crackers(\"Levelheaded Lion\")"
   ]
  },
  {
   "cell_type": "code",
   "execution_count": 65,
   "id": "c99860a6",
   "metadata": {},
   "outputs": [
    {
     "data": {
      "text/plain": [
       "'False'"
      ]
     },
     "execution_count": 65,
     "metadata": {},
     "output_type": "execute_result"
    }
   ],
   "source": [
    "animal_crackers(\"vyshnavi good\")"
   ]
  },
  {
   "cell_type": "code",
   "execution_count": 66,
   "id": "fe2e5610",
   "metadata": {},
   "outputs": [
    {
     "data": {
      "text/plain": [
       "'True'"
      ]
     },
     "execution_count": 66,
     "metadata": {},
     "output_type": "execute_result"
    }
   ],
   "source": [
    "animal_crackers(\"vyshnavi verygood\")"
   ]
  },
  {
   "cell_type": "code",
   "execution_count": 67,
   "id": "dcf38908",
   "metadata": {},
   "outputs": [
    {
     "data": {
      "text/plain": [
       "'True'"
      ]
     },
     "execution_count": 67,
     "metadata": {},
     "output_type": "execute_result"
    }
   ],
   "source": [
    "animal_crackers(\"Vyshnavi Verygood\")"
   ]
  },
  {
   "cell_type": "code",
   "execution_count": 64,
   "id": "f465f9e2",
   "metadata": {},
   "outputs": [
    {
     "data": {
      "text/plain": [
       "'False'"
      ]
     },
     "execution_count": 64,
     "metadata": {},
     "output_type": "execute_result"
    }
   ],
   "source": [
    "animal_crackers(\"Vyshnavi verygood\")"
   ]
  },
  {
   "cell_type": "code",
   "execution_count": 68,
   "id": "ea163617",
   "metadata": {},
   "outputs": [
    {
     "data": {
      "text/plain": [
       "'False'"
      ]
     },
     "execution_count": 68,
     "metadata": {},
     "output_type": "execute_result"
    }
   ],
   "source": [
    "animal_crackers(\"vyshnavi Verygood\")"
   ]
  },
  {
   "cell_type": "code",
   "execution_count": null,
   "id": "b7fa83f5",
   "metadata": {},
   "outputs": [],
   "source": [
    "animal_crackers(\"vyshnavi  very good\") # ValueError: too many values to unpack (expected 2)"
   ]
  }
 ],
 "metadata": {
  "kernelspec": {
   "display_name": "Python 3 (ipykernel)",
   "language": "python",
   "name": "python3"
  },
  "language_info": {
   "codemirror_mode": {
    "name": "ipython",
    "version": 3
   },
   "file_extension": ".py",
   "mimetype": "text/x-python",
   "name": "python",
   "nbconvert_exporter": "python",
   "pygments_lexer": "ipython3",
   "version": "3.9.13"
  }
 },
 "nbformat": 4,
 "nbformat_minor": 5
}
