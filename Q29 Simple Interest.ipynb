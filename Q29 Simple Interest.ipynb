{
 "cells": [
  {
   "cell_type": "code",
   "execution_count": 3,
   "id": "7e6722c1",
   "metadata": {},
   "outputs": [
    {
     "name": "stdout",
     "output_type": "stream",
     "text": [
      "Enter principle amount : 1000\n",
      "Enter rate of intrest : 10\n",
      "Simple Interest :  100.0\n"
     ]
    }
   ],
   "source": [
    "# Q1. Write a program to take principle amount, rate of interest as input and calculate simple interest.\n",
    "\n",
    "N=1\n",
    "P=int(input(\"Enter principle amount : \"))\n",
    "R=int(input(\"Enter rate of intrest : \"))\n",
    "SI=(P*N*R)/100\n",
    "print(\"Simple Interest : \",SI)"
   ]
  },
  {
   "cell_type": "code",
   "execution_count": 3,
   "id": "4c00d08b",
   "metadata": {},
   "outputs": [
    {
     "name": "stdout",
     "output_type": "stream",
     "text": [
      "Enter principle amount : 1000\n",
      "Enter rate of intrest : 5\n",
      "<function <lambda> at 0x0000016243574430>\n"
     ]
    }
   ],
   "source": [
    "N=1\n",
    "P=int(input(\"Enter principle amount : \"))\n",
    "R=int(input(\"Enter rate of intrest : \"))\n",
    "x=(lambda p,n,r:(p*n*r)/100)\n",
    "print(x)"
   ]
  },
  {
   "cell_type": "code",
   "execution_count": null,
   "id": "6a040674",
   "metadata": {},
   "outputs": [],
   "source": []
  }
 ],
 "metadata": {
  "kernelspec": {
   "display_name": "Python 3 (ipykernel)",
   "language": "python",
   "name": "python3"
  },
  "language_info": {
   "codemirror_mode": {
    "name": "ipython",
    "version": 3
   },
   "file_extension": ".py",
   "mimetype": "text/x-python",
   "name": "python",
   "nbconvert_exporter": "python",
   "pygments_lexer": "ipython3",
   "version": "3.9.13"
  }
 },
 "nbformat": 4,
 "nbformat_minor": 5
}
